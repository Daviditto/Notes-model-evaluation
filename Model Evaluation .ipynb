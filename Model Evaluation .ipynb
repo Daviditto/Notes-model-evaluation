{
 "cells": [
  {
   "cell_type": "markdown",
   "id": "552267da-a4b1-4fcb-826e-28de1d37d2c8",
   "metadata": {
    "tags": []
   },
   "source": [
    "# Cross-Validating Models"
   ]
  },
  {
   "cell_type": "code",
   "execution_count": 3,
   "id": "83b2ad99-14fb-402d-bfb9-141508438704",
   "metadata": {},
   "outputs": [],
   "source": [
    "from sklearn.datasets import load_digits\n",
    "from sklearn.pipeline import make_pipeline\n",
    "from sklearn.model_selection import KFold, cross_val_score\n",
    "from sklearn.linear_model import LogisticRegression\n",
    "from sklearn.preprocessing import StandardScaler"
   ]
  },
  {
   "cell_type": "code",
   "execution_count": 5,
   "id": "9745d1c4-3043-4b40-8464-d54a63917824",
   "metadata": {},
   "outputs": [],
   "source": [
    "pipemodel = make_pipeline(StandardScaler(), LogisticRegression())"
   ]
  },
  {
   "cell_type": "code",
   "execution_count": 7,
   "id": "dd455b79-a98a-4626-bf8d-6a783a5ddcd8",
   "metadata": {},
   "outputs": [],
   "source": [
    "digits = load_digits()\n",
    "features = digits.data\n",
    "target = digits.target"
   ]
  },
  {
   "cell_type": "code",
   "execution_count": 11,
   "id": "283b0c42-ca54-43b2-abad-17753471d605",
   "metadata": {},
   "outputs": [],
   "source": [
    "k = KFold(n_splits=10, shuffle = True)"
   ]
  },
  {
   "cell_type": "code",
   "execution_count": 18,
   "id": "f74f6dbf-65db-4378-8039-b3f924fac36d",
   "metadata": {},
   "outputs": [
    {
     "name": "stderr",
     "output_type": "stream",
     "text": [
      "/Users/david/opt/anaconda3/lib/python3.9/site-packages/sklearn/linear_model/_logistic.py:763: ConvergenceWarning: lbfgs failed to converge (status=1):\n",
      "STOP: TOTAL NO. of ITERATIONS REACHED LIMIT.\n",
      "\n",
      "Increase the number of iterations (max_iter) or scale the data as shown in:\n",
      "    https://scikit-learn.org/stable/modules/preprocessing.html\n",
      "Please also refer to the documentation for alternative solver options:\n",
      "    https://scikit-learn.org/stable/modules/linear_model.html#logistic-regression\n",
      "  n_iter_i = _check_optimize_result(\n"
     ]
    }
   ],
   "source": [
    "scores = cross_val_score(pipemodel, features, target, cv=k , scoring='accuracy', n_jobs =-1);#n_jobs decides how many cores used for this mission"
   ]
  },
  {
   "cell_type": "code",
   "execution_count": 16,
   "id": "297a21d0-753d-4fd6-960e-ee2a21c43fe2",
   "metadata": {},
   "outputs": [
    {
     "data": {
      "text/plain": [
       "0.9693947858472998"
      ]
     },
     "execution_count": 16,
     "metadata": {},
     "output_type": "execute_result"
    }
   ],
   "source": [
    "scores.mean()"
   ]
  },
  {
   "cell_type": "code",
   "execution_count": null,
   "id": "3b62a499-193e-4e2e-8499-d8fc667bbda3",
   "metadata": {},
   "outputs": [],
   "source": []
  },
  {
   "cell_type": "markdown",
   "id": "871dae89-c6fe-4297-9446-4436fcaf8a3a",
   "metadata": {},
   "source": [
    "# Creating a Baseline Regression Model"
   ]
  },
  {
   "cell_type": "code",
   "execution_count": 44,
   "id": "58c02b41-52dd-43b9-9913-0fb1daddaff9",
   "metadata": {},
   "outputs": [],
   "source": [
    "from sklearn.dummy import DummyRegressor\n",
    "from sklearn.datasets import load_boston\n",
    "from sklearn.model_selection import train_test_split\n",
    "from sklearn.linear_model import LinearRegression"
   ]
  },
  {
   "cell_type": "code",
   "execution_count": 26,
   "id": "2481e99f-c760-4e95-b0f1-0e0994b62a51",
   "metadata": {},
   "outputs": [],
   "source": [
    "boston = load_boston()"
   ]
  },
  {
   "cell_type": "code",
   "execution_count": 27,
   "id": "207b3e5b-2c16-4b4b-8272-1da9abd39bca",
   "metadata": {},
   "outputs": [],
   "source": [
    "features, target = boston.data, boston.target"
   ]
  },
  {
   "cell_type": "code",
   "execution_count": 29,
   "id": "e1282e43-ae57-4031-a478-f96c87ded936",
   "metadata": {},
   "outputs": [
    {
     "data": {
      "text/plain": [
       "(506, 13)"
      ]
     },
     "execution_count": 29,
     "metadata": {},
     "output_type": "execute_result"
    }
   ],
   "source": [
    "features.shape"
   ]
  },
  {
   "cell_type": "code",
   "execution_count": 33,
   "id": "0c6eb40b-c8ff-436a-b275-c834631fd8e3",
   "metadata": {},
   "outputs": [],
   "source": [
    "Xtrain, Xtest,ytrain, ytest = train_test_split(features, target, test_size=0.1)"
   ]
  },
  {
   "cell_type": "code",
   "execution_count": 34,
   "id": "e9a7ced3-d68c-4cfb-9da7-8e152704f425",
   "metadata": {},
   "outputs": [
    {
     "data": {
      "text/plain": [
       "(455, 13)"
      ]
     },
     "execution_count": 34,
     "metadata": {},
     "output_type": "execute_result"
    }
   ],
   "source": [
    "Xtrain.shape"
   ]
  },
  {
   "cell_type": "code",
   "execution_count": 35,
   "id": "a2bdca5c-4f40-4458-b1c5-f2739c1b8e9e",
   "metadata": {},
   "outputs": [
    {
     "data": {
      "text/plain": [
       "(51, 13)"
      ]
     },
     "execution_count": 35,
     "metadata": {},
     "output_type": "execute_result"
    }
   ],
   "source": [
    "Xtest.shape"
   ]
  },
  {
   "cell_type": "code",
   "execution_count": 42,
   "id": "a921cd47-f58b-4c57-8d05-70cfeb3789c7",
   "metadata": {},
   "outputs": [
    {
     "data": {
      "text/plain": [
       "-0.022933719798110763"
      ]
     },
     "execution_count": 42,
     "metadata": {},
     "output_type": "execute_result"
    }
   ],
   "source": [
    "base = DummyRegressor(strategy ='mean')\n",
    "base.fit(Xtrain, ytrain)\n",
    "base.score(Xtest, ytest)"
   ]
  },
  {
   "cell_type": "code",
   "execution_count": 46,
   "id": "63ca4e5c-946a-4d5d-b409-974c0c10d82c",
   "metadata": {},
   "outputs": [
    {
     "data": {
      "text/plain": [
       "0.7725861219950191"
      ]
     },
     "execution_count": 46,
     "metadata": {},
     "output_type": "execute_result"
    }
   ],
   "source": [
    "linear = LinearRegression()\n",
    "linear.fit(Xtrain, ytrain)\n",
    "linear.score(Xtest, ytest)"
   ]
  },
  {
   "cell_type": "code",
   "execution_count": 48,
   "id": "d6ecca59-823c-4ba1-808c-9f4dd8194f49",
   "metadata": {},
   "outputs": [
    {
     "data": {
      "text/plain": [
       "-0.16371528119678258"
      ]
     },
     "execution_count": 48,
     "metadata": {},
     "output_type": "execute_result"
    }
   ],
   "source": [
    "base2 = DummyRegressor(strategy='constant', constant=20) # By default, score returns the coefficient of determination (R-squared, R2 ) score:\n",
    "base2.fit(Xtrain, ytrain)\n",
    "base2.score(Xtest, ytest)"
   ]
  },
  {
   "cell_type": "markdown",
   "id": "eeb7a6ca-de46-4a21-bab3-3ce12e6c7e7d",
   "metadata": {},
   "source": [
    "# Creating a Baseline Classification Model"
   ]
  },
  {
   "cell_type": "code",
   "execution_count": 57,
   "id": "217a9e78-5384-455d-8f33-46c729138dd4",
   "metadata": {},
   "outputs": [],
   "source": [
    "from sklearn.datasets import load_iris\n",
    "from sklearn.dummy import DummyClassifier\n",
    "from sklearn.ensemble import RandomForestClassifier"
   ]
  },
  {
   "cell_type": "code",
   "execution_count": 50,
   "id": "3e81950d-decc-4cf0-8405-e3bf706dc180",
   "metadata": {},
   "outputs": [],
   "source": [
    "X = load_iris().data\n",
    "y = load_iris().target"
   ]
  },
  {
   "cell_type": "code",
   "execution_count": 52,
   "id": "ce574428-d1fc-4193-b067-1ff6851809c4",
   "metadata": {},
   "outputs": [],
   "source": [
    "Xtrain, Xtest, ytrain, ytest = train_test_split(X,y, test_size=0.1)"
   ]
  },
  {
   "cell_type": "code",
   "execution_count": 54,
   "id": "bb2f0bc0-e08d-4b11-813a-b1b18816bd63",
   "metadata": {},
   "outputs": [
    {
     "data": {
      "text/plain": [
       "0.6666666666666666"
      ]
     },
     "execution_count": 54,
     "metadata": {},
     "output_type": "execute_result"
    }
   ],
   "source": [
    "baseclass = DummyClassifier(strategy='uniform')\n",
    "baseclass.fit(Xtrain, ytrain)\n",
    "baseclass.score(Xtest, ytest)"
   ]
  },
  {
   "cell_type": "code",
   "execution_count": 55,
   "id": "89410e24-2e88-492a-b082-0765e921c3b2",
   "metadata": {},
   "outputs": [
    {
     "data": {
      "text/plain": [
       "0.4"
      ]
     },
     "execution_count": 55,
     "metadata": {},
     "output_type": "execute_result"
    }
   ],
   "source": [
    "baseclass2 = DummyClassifier(strategy='stratified')\n",
    "baseclass2.fit(Xtrain, ytrain)\n",
    "baseclass2.score(Xtest, ytest)"
   ]
  },
  {
   "cell_type": "code",
   "execution_count": 58,
   "id": "5053ca68-ff08-45b3-8bea-7b001d42799e",
   "metadata": {},
   "outputs": [
    {
     "data": {
      "text/plain": [
       "0.9333333333333333"
      ]
     },
     "execution_count": 58,
     "metadata": {},
     "output_type": "execute_result"
    }
   ],
   "source": [
    "forest = RandomForestClassifier()\n",
    "forest.fit(Xtrain, ytrain)\n",
    "forest.score(Xtest, ytest)"
   ]
  },
  {
   "cell_type": "markdown",
   "id": "dc94ef19-7bac-4a8c-a4a9-91e9e3ff0e15",
   "metadata": {},
   "source": [
    "# Evaluating Binary Classifier Predictions"
   ]
  },
  {
   "cell_type": "code",
   "execution_count": 60,
   "id": "a02b544c-e7d5-4d4a-9992-902eb869ee7e",
   "metadata": {},
   "outputs": [],
   "source": [
    "from sklearn.datasets import make_classification\n",
    "from sklearn.linear_model import LogisticRegression"
   ]
  },
  {
   "cell_type": "code",
   "execution_count": 63,
   "id": "d801c630-5282-4c52-bfd4-13ca5bf97b7f",
   "metadata": {},
   "outputs": [],
   "source": [
    "X,y = make_classification(n_samples=1000, n_features=3, n_informative =3, n_redundant=0, n_classes=2)\n",
    "model = LogisticRegression()"
   ]
  },
  {
   "cell_type": "code",
   "execution_count": 66,
   "id": "8c4fd42f-b343-48e0-8538-49466249fd49",
   "metadata": {},
   "outputs": [
    {
     "data": {
      "text/plain": [
       "0.755"
      ]
     },
     "execution_count": 66,
     "metadata": {},
     "output_type": "execute_result"
    }
   ],
   "source": [
    "cross_val_score(model, X, y, scoring='accuracy', cv=10, n_jobs=-1).mean()"
   ]
  },
  {
   "cell_type": "code",
   "execution_count": 71,
   "id": "c6be907f-be8f-47ad-9e72-e7ff19c4c7f3",
   "metadata": {},
   "outputs": [
    {
     "data": {
      "text/plain": [
       "0.7569971445060615"
      ]
     },
     "execution_count": 71,
     "metadata": {},
     "output_type": "execute_result"
    }
   ],
   "source": [
    "cross_val_score(model, X, y, scoring='precision',cv=10, n_jobs=-1).mean() # when you have unbalanced data"
   ]
  },
  {
   "cell_type": "code",
   "execution_count": 69,
   "id": "41402bef-8ab4-49b9-8823-43353c42fcb7",
   "metadata": {},
   "outputs": [
    {
     "data": {
      "text/plain": [
       "0.7575510204081632"
      ]
     },
     "execution_count": 69,
     "metadata": {},
     "output_type": "execute_result"
    }
   ],
   "source": [
    "cross_val_score(model, X, y, scoring='recall',cv=10, n_jobs=-1 ).mean()"
   ]
  },
  {
   "cell_type": "code",
   "execution_count": 70,
   "id": "bc3a1aff-5162-4a2b-88db-ec3edcb529a1",
   "metadata": {},
   "outputs": [
    {
     "data": {
      "text/plain": [
       "0.7550165655986316"
      ]
     },
     "execution_count": 70,
     "metadata": {},
     "output_type": "execute_result"
    }
   ],
   "source": [
    "cross_val_score(model, X, y, scoring='f1',cv=10, n_jobs=-1 ).mean()"
   ]
  },
  {
   "cell_type": "markdown",
   "id": "4ed0b6b6-7233-4c83-9922-81917d002616",
   "metadata": {},
   "source": [
    " "
   ]
  },
  {
   "cell_type": "markdown",
   "id": "54a4f83b-75f9-44df-bf78-dff36d7917a9",
   "metadata": {},
   "source": [
    " "
   ]
  },
  {
   "cell_type": "code",
   "execution_count": 79,
   "id": "b9c3354a-571a-4bac-a944-cbc862083652",
   "metadata": {},
   "outputs": [],
   "source": [
    "from sklearn.metrics import accuracy_score"
   ]
  },
  {
   "cell_type": "code",
   "execution_count": 82,
   "id": "34039fb3-1bc4-4b48-af50-300e41786bd0",
   "metadata": {},
   "outputs": [],
   "source": [
    "Xtrain1, Xtest1, ytrain1, ytest1 = train_test_split(X,y, test_size=0.1)"
   ]
  },
  {
   "cell_type": "code",
   "execution_count": 83,
   "id": "77965b39-acbd-4c59-989e-fb6381d43a32",
   "metadata": {},
   "outputs": [],
   "source": [
    "y_model = model.fit(Xtrain1, ytrain1).predict(Xtest1)"
   ]
  },
  {
   "cell_type": "code",
   "execution_count": 84,
   "id": "30325f63-4a0b-4fe2-9d26-945efa3b23a4",
   "metadata": {},
   "outputs": [
    {
     "data": {
      "text/plain": [
       "0.81"
      ]
     },
     "execution_count": 84,
     "metadata": {},
     "output_type": "execute_result"
    }
   ],
   "source": [
    "accuracy_score(y_model, ytest1)"
   ]
  },
  {
   "cell_type": "markdown",
   "id": "d3786618-1af6-4692-aa5e-87b0cf069612",
   "metadata": {},
   "source": [
    "# Evaluating Binary Classifier Thresholds"
   ]
  },
  {
   "cell_type": "code",
   "execution_count": 96,
   "id": "992092c8-a53b-440b-9f4c-0059efbbf2f6",
   "metadata": {},
   "outputs": [],
   "source": [
    "from matplotlib import pyplot as plt\n",
    "from sklearn.metrics import roc_curve, roc_auc_score"
   ]
  },
  {
   "cell_type": "code",
   "execution_count": 97,
   "id": "f9d2559b-9aea-4664-9030-a18a5c4a7302",
   "metadata": {},
   "outputs": [],
   "source": [
    "X, y = make_classification(n_features=10, n_samples=1000, n_informative=3, n_classes=2)"
   ]
  },
  {
   "cell_type": "code",
   "execution_count": 98,
   "id": "2c6c32dd-6b7b-4f80-82f2-586b718e7c29",
   "metadata": {},
   "outputs": [],
   "source": [
    "Xtrain2, Xtest2, ytrain2, ytest2 = train_test_split(X,y, test_size=0.1)"
   ]
  },
  {
   "cell_type": "code",
   "execution_count": 101,
   "id": "1d59af4e-8d14-4e20-b642-1b8b003619e8",
   "metadata": {},
   "outputs": [
    {
     "data": {
      "text/plain": [
       "(900, 10)"
      ]
     },
     "execution_count": 101,
     "metadata": {},
     "output_type": "execute_result"
    }
   ],
   "source": [
    "Xtrain2.shape"
   ]
  },
  {
   "cell_type": "code",
   "execution_count": 102,
   "id": "dd6d11be-d9ca-4bae-8b1c-7d63d4c83245",
   "metadata": {},
   "outputs": [
    {
     "data": {
      "text/plain": [
       "(100, 10)"
      ]
     },
     "execution_count": 102,
     "metadata": {},
     "output_type": "execute_result"
    }
   ],
   "source": [
    "Xtest2.shape"
   ]
  },
  {
   "cell_type": "code",
   "execution_count": 100,
   "id": "38a70050-1eea-4b68-9a1d-869f91079820",
   "metadata": {},
   "outputs": [],
   "source": [
    "logit = LogisticRegression()"
   ]
  },
  {
   "cell_type": "code",
   "execution_count": 118,
   "id": "e373dcc9-2086-4e11-8855-b45bdd11df59",
   "metadata": {},
   "outputs": [],
   "source": [
    "predictprob = logit.fit(Xtrain2,ytrain2).predict_proba(Xtest2)"
   ]
  },
  {
   "cell_type": "code",
   "execution_count": 108,
   "id": "a43f33fb-89ee-4e5f-844a-09c41a395504",
   "metadata": {},
   "outputs": [
    {
     "data": {
      "text/plain": [
       "(100,)"
      ]
     },
     "execution_count": 108,
     "metadata": {},
     "output_type": "execute_result"
    }
   ],
   "source": [
    "ytest2.shape"
   ]
  },
  {
   "cell_type": "code",
   "execution_count": 115,
   "id": "74cfff75-0ec3-4610-9119-4d6225240833",
   "metadata": {},
   "outputs": [
    {
     "data": {
      "text/plain": [
       "(100,)"
      ]
     },
     "execution_count": 115,
     "metadata": {},
     "output_type": "execute_result"
    }
   ],
   "source": [
    "predictprob.shape"
   ]
  },
  {
   "cell_type": "code",
   "execution_count": 130,
   "id": "2ddf3729-46e8-469c-ad4d-31b339ffc7ea",
   "metadata": {},
   "outputs": [],
   "source": [
    "false_positive_rate, true_positive_rate, threshold = roc_curve(ytest2,predictprob[:,1])"
   ]
  },
  {
   "cell_type": "code",
   "execution_count": 131,
   "id": "0a960b7d-60dc-410e-ab3f-f32cb9246f1b",
   "metadata": {},
   "outputs": [
    {
     "data": {
      "text/plain": [
       "[<matplotlib.lines.Line2D at 0x7fa768a3b2e0>]"
      ]
     },
     "execution_count": 131,
     "metadata": {},
     "output_type": "execute_result"
    },
    {
     "data": {
      "image/png": "[encoded data removed]",
      "text/plain": [
       "<Figure size 432x288 with 1 Axes>"
      ]
     },
     "metadata": {
      "needs_background": "light"
     },
     "output_type": "display_data"
    }
   ],
   "source": [
    "plt.plot(false_positive_rate,true_positive_rate)\n",
    "plt.plot([0, 1], ls=\"--\")\n",
    "plt.plot([0, 0], [1, 0] , c=\".7\") \n",
    "plt.plot([1, 1] , c=\".7\")"
   ]
  },
  {
   "cell_type": "code",
   "execution_count": 132,
   "id": "956e9578-e489-4b5b-9f7e-95ad8aa64b92",
   "metadata": {},
   "outputs": [
    {
     "data": {
      "text/plain": [
       "array([0, 1])"
      ]
     },
     "execution_count": 132,
     "metadata": {},
     "output_type": "execute_result"
    }
   ],
   "source": [
    "logit.classes_"
   ]
  },
  {
   "cell_type": "code",
   "execution_count": 139,
   "id": "05abb33f-5e65-4f7f-a39a-e586a59934bc",
   "metadata": {},
   "outputs": [
    {
     "name": "stdout",
     "output_type": "stream",
     "text": [
      "threshold: 0.5438782745856512\n",
      "FPR: 0.2553191489361702\n",
      "TPR: 0.8867924528301887\n"
     ]
    }
   ],
   "source": [
    "print('threshold:',threshold[20])\n",
    "print('FPR:',false_positive_rate[20])\n",
    "print('TPR:',true_positive_rate[20])"
   ]
  },
  {
   "cell_type": "code",
   "execution_count": 145,
   "id": "172a687e-36e3-4691-8b3b-a057f3a2eec7",
   "metadata": {},
   "outputs": [
    {
     "name": "stdout",
     "output_type": "stream",
     "text": [
      "threshold: 0.7343322790611814\n",
      "FPR: 0.06382978723404255\n",
      "TPR: 0.6226415094339622\n"
     ]
    }
   ],
   "source": [
    "print('threshold:',threshold[8])\n",
    "print('FPR:',false_positive_rate[8])\n",
    "print('TPR:',true_positive_rate[8])"
   ]
  },
  {
   "cell_type": "code",
   "execution_count": 146,
   "id": "c7a000f3-1fb7-4f6e-9091-86fe5ea08ddb",
   "metadata": {},
   "outputs": [
    {
     "data": {
      "text/plain": [
       "0.881172219991971"
      ]
     },
     "execution_count": 146,
     "metadata": {},
     "output_type": "execute_result"
    }
   ],
   "source": [
    "roc_auc_score(ytest2, predictprob[:,1]) #The closer the AUCROC is to 1, the better the model,calculate the area under the ROC curve"
   ]
  },
  {
   "cell_type": "markdown",
   "id": "ce8abd0e-8843-4da8-82f3-c44dc694feb9",
   "metadata": {},
   "source": [
    "# Evaluating Multiclass Classifier Predictions"
   ]
  },
  {
   "cell_type": "code",
   "execution_count": 150,
   "id": "175a2c67-cfbd-4df9-9422-caf36599d7b3",
   "metadata": {},
   "outputs": [],
   "source": [
    "X1, y1 = make_classification(n_samples=10000, n_features=3, n_informative=3, n_redundant=0, n_classes=3)"
   ]
  },
  {
   "cell_type": "code",
   "execution_count": 151,
   "id": "3888015f-736f-4332-b24f-93ada6ee4e3c",
   "metadata": {},
   "outputs": [],
   "source": [
    "logit2 = LogisticRegression()"
   ]
  },
  {
   "cell_type": "code",
   "execution_count": 153,
   "id": "d9bb1fd0-ea90-4108-a44f-1398796c4792",
   "metadata": {},
   "outputs": [
    {
     "data": {
      "text/plain": [
       "array([0.73464684, 0.72136979, 0.73053637])"
      ]
     },
     "execution_count": 153,
     "metadata": {},
     "output_type": "execute_result"
    }
   ],
   "source": [
    "cross_val_score(logit2, X1, y1, scoring='f1_macro', cv=3) #Calculate mean of metric scores for each class, weighting each class equally."
   ]
  },
  {
   "cell_type": "code",
   "execution_count": 155,
   "id": "c9f24bf6-fc69-49bc-a370-688334942762",
   "metadata": {},
   "outputs": [
    {
     "data": {
      "text/plain": [
       "array([0.73635273, 0.72127213, 0.73087309])"
      ]
     },
     "execution_count": 155,
     "metadata": {},
     "output_type": "execute_result"
    }
   ],
   "source": [
    "cross_val_score(logit2, X1, y1, scoring='precision_micro', cv=3) #Calculate mean of metric scores for each observation-class combination."
   ]
  },
  {
   "cell_type": "code",
   "execution_count": 156,
   "id": "7bb83299-2278-4b67-a0b3-cfca30c37c15",
   "metadata": {},
   "outputs": [
    {
     "data": {
      "text/plain": [
       "array([0.73635273, 0.72127213, 0.73087309])"
      ]
     },
     "execution_count": 156,
     "metadata": {},
     "output_type": "execute_result"
    }
   ],
   "source": [
    "cross_val_score(logit2, X1, y1, scoring='recall_weighted', cv=3) # Calculate mean of metric scores for each class, weighting each class proportional to its size in the data."
   ]
  },
  {
   "cell_type": "code",
   "execution_count": null,
   "id": "71b69126-4d24-4c5e-86bb-2fbe41dabd71",
   "metadata": {},
   "outputs": [],
   "source": []
  },
  {
   "cell_type": "markdown",
   "id": "a8fd26d1-febd-471b-9de6-b51b2c2199e4",
   "metadata": {},
   "source": [
    "# Visualizing a Classifier’s Performance"
   ]
  },
  {
   "cell_type": "code",
   "execution_count": 167,
   "id": "fcbb7dda-0320-40f1-bb07-7e9438cf427a",
   "metadata": {},
   "outputs": [],
   "source": [
    "from sklearn.datasets import load_digits\n",
    "from sklearn.linear_model import LogisticRegression\n",
    "from sklearn.metrics import confusion_matrix\n",
    "import seaborn as sns"
   ]
  },
  {
   "cell_type": "code",
   "execution_count": 161,
   "id": "9177698c-8977-4cea-b3e9-bd41de0244e4",
   "metadata": {},
   "outputs": [],
   "source": [
    "digits=load_digits()"
   ]
  },
  {
   "cell_type": "code",
   "execution_count": 162,
   "id": "af323f88-34ce-4452-8774-2ccfe3ded602",
   "metadata": {},
   "outputs": [],
   "source": [
    "Xd = digits.data\n",
    "yd = digits.target"
   ]
  },
  {
   "cell_type": "code",
   "execution_count": 163,
   "id": "8adaccad-613c-46ba-9b43-9fe55ce4f237",
   "metadata": {},
   "outputs": [],
   "source": [
    "Xdtrain, Xdtest, ydtrain, ydtest = train_test_split(Xd,yd, test_size=0.2)"
   ]
  },
  {
   "cell_type": "code",
   "execution_count": 164,
   "id": "0b28e514-090b-4200-9c6c-75b2a9145f4b",
   "metadata": {},
   "outputs": [
    {
     "data": {
      "text/plain": [
       "(1437, 64)"
      ]
     },
     "execution_count": 164,
     "metadata": {},
     "output_type": "execute_result"
    }
   ],
   "source": [
    "Xdtrain.shape"
   ]
  },
  {
   "cell_type": "code",
   "execution_count": 165,
   "id": "431159b8-c5d3-4cd5-a719-4920ce316047",
   "metadata": {},
   "outputs": [
    {
     "data": {
      "text/plain": [
       "(360, 64)"
      ]
     },
     "execution_count": 165,
     "metadata": {},
     "output_type": "execute_result"
    }
   ],
   "source": [
    "Xdtest.shape"
   ]
  },
  {
   "cell_type": "code",
   "execution_count": 166,
   "id": "02ffc5ea-eaa4-4d30-a3c5-e4cc2f8100f7",
   "metadata": {},
   "outputs": [
    {
     "name": "stderr",
     "output_type": "stream",
     "text": [
      "/Users/david/opt/anaconda3/lib/python3.9/site-packages/sklearn/linear_model/_logistic.py:763: ConvergenceWarning: lbfgs failed to converge (status=1):\n",
      "STOP: TOTAL NO. of ITERATIONS REACHED LIMIT.\n",
      "\n",
      "Increase the number of iterations (max_iter) or scale the data as shown in:\n",
      "    https://scikit-learn.org/stable/modules/preprocessing.html\n",
      "Please also refer to the documentation for alternative solver options:\n",
      "    https://scikit-learn.org/stable/modules/linear_model.html#logistic-regression\n",
      "  n_iter_i = _check_optimize_result(\n"
     ]
    }
   ],
   "source": [
    "modelclass = LogisticRegression()\n",
    "ypredict = modelclass.fit(Xdtrain,ydtrain).predict(Xdtest)"
   ]
  },
  {
   "cell_type": "code",
   "execution_count": 188,
   "id": "73c0b796-d10d-4bde-8712-2b0a031ee9d4",
   "metadata": {},
   "outputs": [
    {
     "data": {
      "image/png": "[encoded data removed]",
      "text/plain": [
       "<Figure size 720x576 with 1 Axes>"
      ]
     },
     "metadata": {
      "needs_background": "light"
     },
     "output_type": "display_data"
    }
   ],
   "source": [
    "mat = confusion_matrix(ypredict, ydtest)\n",
    "sns.heatmap(mat, annot=True, square=True, fmt='d', cmap='Reds', cbar=False)\n",
    "plt.xlabel('predicted values')\n",
    "plt.ylabel('true values')\n",
    "fig = plt.gcf()\n",
    "fig.set_size_inches(10,8);"
   ]
  },
  {
   "cell_type": "code",
   "execution_count": null,
   "id": "41f78d10-babd-43fb-a0f8-fc40ab9c9ba5",
   "metadata": {},
   "outputs": [],
   "source": []
  },
  {
   "cell_type": "code",
   "execution_count": 175,
   "id": "8bc8881b-236d-42bf-96ea-4a1b15aa660b",
   "metadata": {},
   "outputs": [],
   "source": [
    "iris= load_iris()"
   ]
  },
  {
   "cell_type": "code",
   "execution_count": 176,
   "id": "9244a8b3-5fd8-49e9-b936-1767db373417",
   "metadata": {},
   "outputs": [],
   "source": [
    "Xs = iris.data\n",
    "ys = iris.target"
   ]
  },
  {
   "cell_type": "code",
   "execution_count": 177,
   "id": "281e9a5b-9220-4adb-8f43-0a51a873cd51",
   "metadata": {},
   "outputs": [],
   "source": [
    "Xstrain, Xstest, ystrain, ystest = train_test_split(Xs,ys, test_size=0.2)"
   ]
  },
  {
   "cell_type": "code",
   "execution_count": 178,
   "id": "84fe78a6-7540-4f08-b378-1c73822b60e5",
   "metadata": {},
   "outputs": [
    {
     "data": {
      "text/plain": [
       "(120, 4)"
      ]
     },
     "execution_count": 178,
     "metadata": {},
     "output_type": "execute_result"
    }
   ],
   "source": [
    "Xstrain.shape"
   ]
  },
  {
   "cell_type": "code",
   "execution_count": 179,
   "id": "c0461070-5e35-4698-92ba-99632465cd2b",
   "metadata": {},
   "outputs": [
    {
     "data": {
      "text/plain": [
       "(30, 4)"
      ]
     },
     "execution_count": 179,
     "metadata": {},
     "output_type": "execute_result"
    }
   ],
   "source": [
    "Xstest.shape"
   ]
  },
  {
   "cell_type": "code",
   "execution_count": 180,
   "id": "89f8df90-540f-4573-9516-4fe676f888e8",
   "metadata": {},
   "outputs": [
    {
     "data": {
      "text/plain": [
       "LogisticRegression()"
      ]
     },
     "execution_count": 180,
     "metadata": {},
     "output_type": "execute_result"
    }
   ],
   "source": [
    "modelclass.fit(Xstrain,ystrain)"
   ]
  },
  {
   "cell_type": "code",
   "execution_count": 197,
   "id": "341a3315-5f1e-449c-9714-7420bf8c3b1c",
   "metadata": {},
   "outputs": [],
   "source": [
    "from sklearn.metrics import plot_confusion_matrix\n",
    "import pandas as pd"
   ]
  },
  {
   "cell_type": "code",
   "execution_count": 190,
   "id": "54e341a2-d756-4b37-9697-6f00297ead00",
   "metadata": {},
   "outputs": [
    {
     "data": {
      "image/png": "[encoded data removed]",
      "text/plain": [
       "<Figure size 432x288 with 2 Axes>"
      ]
     },
     "metadata": {
      "needs_background": "light"
     },
     "output_type": "display_data"
    }
   ],
   "source": [
    "plot_confusion_matrix(modelclass, Xstest, ystest, values_format='d');"
   ]
  },
  {
   "cell_type": "code",
   "execution_count": 191,
   "id": "c674f6d9-2a66-4f9f-9eb8-bfc9efd1f6a5",
   "metadata": {},
   "outputs": [],
   "source": [
    "yspredict = modelclass.fit(Xstrain,ystrain).predict(Xstest)"
   ]
  },
  {
   "cell_type": "code",
   "execution_count": 198,
   "id": "85b632a1-7f46-498d-ac7b-2b1b77af1ecb",
   "metadata": {},
   "outputs": [],
   "source": [
    "mat2 = confusion_matrix(yspredict, ystest)\n",
    "matdf = pd.DataFrame(mat2, index=iris.target_names, columns=iris.target_names)"
   ]
  },
  {
   "cell_type": "code",
   "execution_count": 202,
   "id": "48fa7f6d-ed0e-4464-8de7-0e8528f8e520",
   "metadata": {},
   "outputs": [
    {
     "data": {
      "image/png": "[encoded data removed]",
      "text/plain": [
       "<Figure size 720x576 with 1 Axes>"
      ]
     },
     "metadata": {
      "needs_background": "light"
     },
     "output_type": "display_data"
    }
   ],
   "source": [
    "sns.heatmap(matdf, annot=True, cbar=False, fmt='d', square=True);\n",
    "ax = plt.gca()\n",
    "ax.set(xlabel='predicted', ylabel='true')\n",
    "fig = plt.gcf()\n",
    "fig.set_size_inches(10,8);"
   ]
  },
  {
   "cell_type": "markdown",
   "id": "397d1173-f0a9-4d0b-879f-d25c7d86a417",
   "metadata": {},
   "source": [
    "# Evaluating Regression Models"
   ]
  },
  {
   "cell_type": "code",
   "execution_count": 204,
   "id": "e2484f3d-4dad-424b-bc14-60eb6e2e3045",
   "metadata": {},
   "outputs": [],
   "source": [
    "from sklearn.linear_model import LinearRegression\n",
    "from sklearn.datasets import make_regression"
   ]
  },
  {
   "cell_type": "code",
   "execution_count": 205,
   "id": "9dd0b59c-a6a0-43a9-ae89-ba42f66d42ca",
   "metadata": {},
   "outputs": [],
   "source": [
    "XL, yL = make_regression(n_features=3, n_informative=3, n_samples=100, n_targets=1, noise=50, coef=False)"
   ]
  },
  {
   "cell_type": "code",
   "execution_count": 206,
   "id": "c3f0d207-1471-4b3d-afbc-306546fe7cab",
   "metadata": {},
   "outputs": [],
   "source": [
    "lin = LinearRegression()"
   ]
  },
  {
   "cell_type": "code",
   "execution_count": 208,
   "id": "d1019c3c-109d-454f-8c97-f2607205de80",
   "metadata": {},
   "outputs": [
    {
     "data": {
      "text/plain": [
       "-2620.779078310914"
      ]
     },
     "execution_count": 208,
     "metadata": {},
     "output_type": "execute_result"
    }
   ],
   "source": [
    "cross_val_score(lin, XL, yL, scoring='neg_mean_squared_error').mean()"
   ]
  },
  {
   "cell_type": "code",
   "execution_count": 210,
   "id": "af595760-c291-448e-a829-525582ff4acd",
   "metadata": {},
   "outputs": [
    {
     "data": {
      "text/plain": [
       "0.7744640651819726"
      ]
     },
     "execution_count": 210,
     "metadata": {},
     "output_type": "execute_result"
    }
   ],
   "source": [
    "cross_val_score(lin, XL, yL, scoring='r2').mean()"
   ]
  },
  {
   "cell_type": "markdown",
   "id": "d3465e54-24d8-4228-baa5-bf347a2ef3a0",
   "metadata": {},
   "source": [
    "# Evaluating Clustering Models"
   ]
  },
  {
   "cell_type": "code",
   "execution_count": 211,
   "id": "5e9e9e52-47b0-402e-9e22-cde9dfec9c5c",
   "metadata": {},
   "outputs": [],
   "source": [
    "import numpy as np\n",
    "from sklearn.metrics import silhouette_score\n",
    "from sklearn.datasets import make_blobs\n",
    "from sklearn.cluster import KMeans"
   ]
  },
  {
   "cell_type": "code",
   "execution_count": 212,
   "id": "11338688-00f7-4605-be8f-af694413cdae",
   "metadata": {},
   "outputs": [],
   "source": [
    "X,y = make_blobs(n_samples=100, centers=2, cluster_std=0.6, shuffle=True)"
   ]
  },
  {
   "cell_type": "code",
   "execution_count": 216,
   "id": "daf471d6-6908-443a-8284-8693201b56cc",
   "metadata": {},
   "outputs": [],
   "source": [
    "modelK = KMeans(n_clusters=2)\n",
    "y_ = modelK.fit(X).predict(X)"
   ]
  },
  {
   "cell_type": "code",
   "execution_count": 224,
   "id": "267131c5-a1b3-4347-b64f-44fcf1880d66",
   "metadata": {},
   "outputs": [
    {
     "data": {
      "text/plain": [
       "<matplotlib.collections.PathCollection at 0x7fa76b4ea1c0>"
      ]
     },
     "execution_count": 224,
     "metadata": {},
     "output_type": "execute_result"
    },
    {
     "data": {
      "image/png": "[encoded data removed]",
      "text/plain": [
       "<Figure size 432x288 with 1 Axes>"
      ]
     },
     "metadata": {
      "needs_background": "light"
     },
     "output_type": "display_data"
    }
   ],
   "source": [
    "plt.scatter(X[:,0], X[:,1], c=y_)\n",
    "plt.scatter(modelK.cluster_centers_[:,0], modelK.cluster_centers_[:,1], s=50, edgecolor='white', facecolor='red')"
   ]
  },
  {
   "cell_type": "code",
   "execution_count": 225,
   "id": "c9c5ccb3-4444-41b8-ad58-9f57c4a30f45",
   "metadata": {},
   "outputs": [
    {
     "data": {
      "text/plain": [
       "0.9057996354138822"
      ]
     },
     "execution_count": 225,
     "metadata": {},
     "output_type": "execute_result"
    }
   ],
   "source": [
    "silhouette_score(X,y_) #The closer to 1.0, the better the model."
   ]
  },
  {
   "cell_type": "code",
   "execution_count": 226,
   "id": "9ef47582-dc73-43e6-a441-edb1d3ade66a",
   "metadata": {},
   "outputs": [
    {
     "data": {
      "text/plain": [
       "array([0, 1, 0, 1, 1, 1, 0, 1, 1, 0, 0, 1, 0, 0, 1, 0, 1, 1, 1, 0, 1, 1,\n",
       "       1, 0, 1, 0, 0, 1, 1, 0, 1, 1, 0, 0, 1, 0, 1, 1, 0, 0, 0, 1, 0, 1,\n",
       "       0, 1, 0, 0, 0, 0, 1, 0, 0, 0, 1, 1, 1, 1, 0, 1, 1, 0, 0, 0, 0, 1,\n",
       "       0, 1, 0, 0, 1, 1, 0, 0, 0, 0, 1, 1, 0, 1, 0, 0, 0, 1, 1, 0, 0, 1,\n",
       "       0, 1, 1, 1, 1, 1, 1, 1, 0, 0, 1, 0], dtype=int32)"
      ]
     },
     "execution_count": 226,
     "metadata": {},
     "output_type": "execute_result"
    }
   ],
   "source": [
    "modelK.labels_"
   ]
  },
  {
   "cell_type": "markdown",
   "id": "f6d82dac-aa6f-4272-ba39-01c35d65565c",
   "metadata": {},
   "source": [
    "# Creating a Custom Evaluation Metric"
   ]
  },
  {
   "cell_type": "code",
   "execution_count": 231,
   "id": "d0ea48ef-1aff-41d2-9769-acb83f78d842",
   "metadata": {},
   "outputs": [],
   "source": [
    "from sklearn.datasets import make_regression\n",
    "from sklearn.metrics import make_scorer, r2_score\n",
    "from sklearn.linear_model import Ridge"
   ]
  },
  {
   "cell_type": "code",
   "execution_count": 230,
   "id": "d753e7e9-85d3-4a39-9414-c4d2cf11d089",
   "metadata": {},
   "outputs": [],
   "source": [
    "Xm,ym = make_regression(n_samples=100 , n_features=3)"
   ]
  },
  {
   "cell_type": "code",
   "execution_count": 232,
   "id": "be97a65f-bbd4-41bf-8d18-1135a705c8fa",
   "metadata": {},
   "outputs": [],
   "source": [
    "Xmtrain, Xmtest, ymtrain, ymtest = train_test_split(Xm, ym, test_size=0.1)"
   ]
  },
  {
   "cell_type": "code",
   "execution_count": 249,
   "id": "c40ee989-e36e-4211-b5d6-4b08cd62f65d",
   "metadata": {},
   "outputs": [],
   "source": [
    "def make_matrix(ymtest, ympredicted):\n",
    "    r2score = r2_score(ymtest, ympredicted)\n",
    "    return r2score"
   ]
  },
  {
   "cell_type": "code",
   "execution_count": 250,
   "id": "95184bbd-8c60-4bad-9169-1830adfa1d65",
   "metadata": {},
   "outputs": [],
   "source": [
    "score = make_scorer(make_matrix, greater_is_better=True)"
   ]
  },
  {
   "cell_type": "code",
   "execution_count": 269,
   "id": "2cbddb75-bd9a-4e71-a1f9-ea1ff553c0b1",
   "metadata": {},
   "outputs": [],
   "source": [
    "modelR = Ridge(alpha=0.5)"
   ]
  },
  {
   "cell_type": "code",
   "execution_count": 270,
   "id": "2ae4ea3f-ef49-49f3-9c2d-2ad8136286be",
   "metadata": {},
   "outputs": [
    {
     "data": {
      "text/plain": [
       "Ridge(alpha=0.5)"
      ]
     },
     "execution_count": 270,
     "metadata": {},
     "output_type": "execute_result"
    }
   ],
   "source": [
    "modelR.fit(Xmtrain, ymtrain)"
   ]
  },
  {
   "cell_type": "code",
   "execution_count": 271,
   "id": "67dae2c8-7627-4220-8e56-ac822aacd905",
   "metadata": {},
   "outputs": [
    {
     "data": {
      "text/plain": [
       "0.999962240704936"
      ]
     },
     "execution_count": 271,
     "metadata": {},
     "output_type": "execute_result"
    }
   ],
   "source": [
    "score(modelR, Xmtest, ymtest)"
   ]
  },
  {
   "cell_type": "code",
   "execution_count": 272,
   "id": "3f8f9200-87a1-4550-85af-cd5fc24a381c",
   "metadata": {},
   "outputs": [
    {
     "data": {
      "text/plain": [
       "0.999962240704936"
      ]
     },
     "execution_count": 272,
     "metadata": {},
     "output_type": "execute_result"
    }
   ],
   "source": [
    "modelR.score(Xmtest, ymtest) # by default, score will give you R2 scores"
   ]
  },
  {
   "cell_type": "markdown",
   "id": "cbfd92f0-7441-4c1a-a9d7-133e40fbf4c1",
   "metadata": {},
   "source": [
    " "
   ]
  },
  {
   "cell_type": "code",
   "execution_count": 273,
   "id": "df1629a0-69a1-494e-b5e0-c7f339c4a27b",
   "metadata": {},
   "outputs": [],
   "source": [
    "ympredicted = modelR.fit(Xmtrain,ymtrain).predict(Xmtest)"
   ]
  },
  {
   "cell_type": "code",
   "execution_count": 274,
   "id": "0f76a4a2-6414-4799-8bc5-cb517706982f",
   "metadata": {},
   "outputs": [
    {
     "data": {
      "text/plain": [
       "0.999962240704936"
      ]
     },
     "execution_count": 274,
     "metadata": {},
     "output_type": "execute_result"
    }
   ],
   "source": [
    "r2_score(ymtest, ympredicted)"
   ]
  },
  {
   "cell_type": "code",
   "execution_count": 275,
   "id": "1d3878ea-7d3d-45b2-b911-084b7c8cbcf6",
   "metadata": {},
   "outputs": [
    {
     "data": {
      "text/plain": [
       "array([47.04594792, 29.88456234, 95.39699169])"
      ]
     },
     "execution_count": 275,
     "metadata": {},
     "output_type": "execute_result"
    }
   ],
   "source": [
    "modelR.coef_"
   ]
  },
  {
   "cell_type": "code",
   "execution_count": 276,
   "id": "0f25bb10-5620-4c8c-83e9-bf278e4e2fa3",
   "metadata": {},
   "outputs": [
    {
     "data": {
      "text/plain": [
       "0.02921925250137747"
      ]
     },
     "execution_count": 276,
     "metadata": {},
     "output_type": "execute_result"
    }
   ],
   "source": [
    "modelR.intercept_"
   ]
  },
  {
   "cell_type": "markdown",
   "id": "e555a3a5-a526-4df0-8212-a4e3c9b878dd",
   "metadata": {},
   "source": [
    "# Visualizing the Effect of Training Set Size"
   ]
  },
  {
   "cell_type": "code",
   "execution_count": 277,
   "id": "0a002169-dc82-4f5e-94b7-e790dcc2165d",
   "metadata": {},
   "outputs": [],
   "source": [
    "from sklearn.ensemble import RandomForestClassifier\n",
    "from sklearn.model_selection import learning_curve"
   ]
  },
  {
   "cell_type": "code",
   "execution_count": 291,
   "id": "961039ad-8176-42aa-a575-a639f284e0b2",
   "metadata": {},
   "outputs": [
    {
     "data": {
      "text/plain": [
       "(1797, 64)"
      ]
     },
     "execution_count": 291,
     "metadata": {},
     "output_type": "execute_result"
    }
   ],
   "source": [
    "digits.data.shape"
   ]
  },
  {
   "cell_type": "code",
   "execution_count": 280,
   "id": "1e653bd1-ee6b-4fbd-8c22-3ba07c6bcb01",
   "metadata": {},
   "outputs": [],
   "source": [
    "train_size, train_scores, test_scores = learning_curve(RandomForestClassifier(), digits.data, digits.target, cv=10, scoring='accuracy', n_jobs=-1, train_sizes=np.linspace(0.01, 1, 50))"
   ]
  },
  {
   "cell_type": "code",
   "execution_count": 294,
   "id": "475f55a7-741a-44a0-a216-d988e21f3262",
   "metadata": {},
   "outputs": [
    {
     "data": {
      "text/plain": [
       "array([  16,   48,   81,  114,  146,  179,  212,  244,  277,  310,  342,\n",
       "        375,  408,  440,  473,  506,  538,  571,  604,  636,  669,  702,\n",
       "        734,  767,  800,  832,  865,  898,  930,  963,  996, 1028, 1061,\n",
       "       1094, 1126, 1159, 1192, 1224, 1257, 1290, 1322, 1355, 1388, 1420,\n",
       "       1453, 1486, 1518, 1551, 1584, 1617])"
      ]
     },
     "execution_count": 294,
     "metadata": {},
     "output_type": "execute_result"
    }
   ],
   "source": [
    "train_size"
   ]
  },
  {
   "cell_type": "code",
   "execution_count": 290,
   "id": "4b473f8e-1917-4608-abfc-9c68bf551291",
   "metadata": {},
   "outputs": [
    {
     "data": {
      "text/plain": [
       "(50, 10)"
      ]
     },
     "execution_count": 290,
     "metadata": {},
     "output_type": "execute_result"
    }
   ],
   "source": [
    "train_scores.shape"
   ]
  },
  {
   "cell_type": "code",
   "execution_count": 285,
   "id": "1b41403e-493d-4e15-b4c3-408829c370ca",
   "metadata": {},
   "outputs": [],
   "source": [
    "train_scores_mean = np.mean(train_scores, axis=1)\n",
    "train_scores_std = np.std(train_scores,axis=1)"
   ]
  },
  {
   "cell_type": "code",
   "execution_count": 286,
   "id": "eac5be26-320f-466b-913d-0be6cbcb7eeb",
   "metadata": {},
   "outputs": [],
   "source": [
    "test_scores_mean = np.mean(test_scores,axis=1)\n",
    "test_scores_std = np.std(test_scores,axis=1)"
   ]
  },
  {
   "cell_type": "code",
   "execution_count": 313,
   "id": "ac18c458-505e-4d57-bca8-cac4f1ca30df",
   "metadata": {},
   "outputs": [
    {
     "data": {
      "image/png": "[encoded data removed]",
      "text/plain": [
       "<Figure size 432x288 with 1 Axes>"
      ]
     },
     "metadata": {
      "needs_background": "light"
     },
     "output_type": "display_data"
    }
   ],
   "source": [
    "plt.plot(train_size, train_scores_mean, '-.', label='training scores')\n",
    "plt.plot(train_size, test_scores_mean,'-', label='cross_val scores')\n",
    "\n",
    "plt.fill_between(train_size, train_scores_mean-train_scores_std, train_scores_mean+train_scores_std, color='#DDDDDD')\n",
    "plt.fill_between(train_size, test_scores_mean-test_scores_std, test_scores_mean+test_scores_std,color='#DDDDDD')\n",
    "plt.legend(loc='lower right', ncol=2, borderpad=True, frameon=True,shadow=True)\n",
    "plt.xlabel('training size')\n",
    "plt.ylabel('accuracy scores')\n",
    "plt.title('Learning Curve');"
   ]
  },
  {
   "cell_type": "markdown",
   "id": "24ff3d4f-01c4-4023-a8bf-84ab81babc41",
   "metadata": {},
   "source": [
    "# Creating a Text Report of Evaluation Metrics"
   ]
  },
  {
   "cell_type": "code",
   "execution_count": 317,
   "id": "fd259eaa-55a8-44a5-8da5-c7ffae243f70",
   "metadata": {},
   "outputs": [],
   "source": [
    "from sklearn.metrics import classification_report"
   ]
  },
  {
   "cell_type": "code",
   "execution_count": 314,
   "id": "02ac5856-4c06-4d67-8475-73e546affcfe",
   "metadata": {},
   "outputs": [],
   "source": [
    "modelLogit = LogisticRegression()"
   ]
  },
  {
   "cell_type": "code",
   "execution_count": 321,
   "id": "afd3da32-8ea8-4849-98bc-ff7fde5c3f41",
   "metadata": {},
   "outputs": [],
   "source": [
    "Xgtrain, Xgtest, ygtrain, ygtest = train_test_split(iris.data, iris.target, test_size=0.2)"
   ]
  },
  {
   "cell_type": "code",
   "execution_count": 322,
   "id": "68fd0640-1beb-4446-a52b-0b1fed666398",
   "metadata": {},
   "outputs": [
    {
     "name": "stderr",
     "output_type": "stream",
     "text": [
      "/Users/david/opt/anaconda3/lib/python3.9/site-packages/sklearn/linear_model/_logistic.py:763: ConvergenceWarning: lbfgs failed to converge (status=1):\n",
      "STOP: TOTAL NO. of ITERATIONS REACHED LIMIT.\n",
      "\n",
      "Increase the number of iterations (max_iter) or scale the data as shown in:\n",
      "    https://scikit-learn.org/stable/modules/preprocessing.html\n",
      "Please also refer to the documentation for alternative solver options:\n",
      "    https://scikit-learn.org/stable/modules/linear_model.html#logistic-regression\n",
      "  n_iter_i = _check_optimize_result(\n"
     ]
    }
   ],
   "source": [
    "predictyg = modelLogit.fit(Xgtrain, ygtrain).predict(Xgtest)"
   ]
  },
  {
   "cell_type": "code",
   "execution_count": 323,
   "id": "852c6d33-f30d-4d5f-9f74-52bc718c4e06",
   "metadata": {},
   "outputs": [
    {
     "name": "stdout",
     "output_type": "stream",
     "text": [
      "              precision    recall  f1-score   support\n",
      "\n",
      "      setosa       1.00      1.00      1.00        11\n",
      "  versicolor       0.77      0.91      0.83        11\n",
      "   virginica       0.83      0.62      0.71         8\n",
      "\n",
      "    accuracy                           0.87        30\n",
      "   macro avg       0.87      0.84      0.85        30\n",
      "weighted avg       0.87      0.87      0.86        30\n",
      "\n"
     ]
    }
   ],
   "source": [
    "print(classification_report(ygtest, predictyg, target_names=iris.target_names))"
   ]
  },
  {
   "cell_type": "markdown",
   "id": "5a70d1b5-1269-400c-9a9f-a8dda75c56a1",
   "metadata": {},
   "source": [
    "# Visualizing the Effect of Hyperparameter Values"
   ]
  },
  {
   "cell_type": "code",
   "execution_count": 326,
   "id": "e7c1f127-f20d-4e5a-90b1-7440c8c4a769",
   "metadata": {},
   "outputs": [],
   "source": [
    "from sklearn.ensemble import RandomForestClassifier\n",
    "from sklearn.model_selection import validation_curve"
   ]
  },
  {
   "cell_type": "code",
   "execution_count": 327,
   "id": "86ee91c5-9dae-49e6-8d68-09fcd90b1ec4",
   "metadata": {},
   "outputs": [],
   "source": [
    "train_scores, val_scores = validation_curve(RandomForestClassifier(), digits.data, digits.target, cv=10, scoring='accuracy', n_jobs=-1, param_name='n_estimators', param_range = np.arange(1,250,2))"
   ]
  },
  {
   "cell_type": "code",
   "execution_count": 328,
   "id": "cf1b85c9-b663-4f9f-a1a8-e78e2e849c57",
   "metadata": {},
   "outputs": [
    {
     "data": {
      "text/plain": [
       "(125, 10)"
      ]
     },
     "execution_count": 328,
     "metadata": {},
     "output_type": "execute_result"
    }
   ],
   "source": [
    "train_scores.shape"
   ]
  },
  {
   "cell_type": "code",
   "execution_count": 337,
   "id": "49301f81-179c-43e0-bda0-6ff3193f5d2d",
   "metadata": {},
   "outputs": [
    {
     "data": {
      "text/plain": [
       "(125, 10)"
      ]
     },
     "execution_count": 337,
     "metadata": {},
     "output_type": "execute_result"
    }
   ],
   "source": [
    "val_scores.shape"
   ]
  },
  {
   "cell_type": "code",
   "execution_count": 330,
   "id": "75cb2356-66a4-44c5-abd6-64fb739dc70a",
   "metadata": {},
   "outputs": [],
   "source": [
    "train_mean = np.mean(train_scores, axis=1)\n",
    "train_std = np.std(train_scores, axis=1)"
   ]
  },
  {
   "cell_type": "code",
   "execution_count": 338,
   "id": "f1e52698-a19b-4b7d-a736-963bf171de7c",
   "metadata": {},
   "outputs": [],
   "source": [
    "test_mean= np.mean(val_scores, axis=1)\n",
    "test_std = np.std(val_scores, axis=1)"
   ]
  },
  {
   "cell_type": "code",
   "execution_count": 349,
   "id": "4285f36a-4a92-4e16-a1a0-f1af0018bf4c",
   "metadata": {},
   "outputs": [
    {
     "data": {
      "image/png": "[encoded data removed]",
      "text/plain": [
       "<Figure size 432x288 with 1 Axes>"
      ]
     },
     "metadata": {
      "needs_background": "light"
     },
     "output_type": "display_data"
    }
   ],
   "source": [
    "plt.plot(np.arange(1,250, 2),train_mean, '-.', label='train score')\n",
    "plt.plot(np.arange(1,250, 2), test_mean, '--', label='test score')\n",
    "plt.fill_between(np.arange(1,250, 2), train_mean-train_std, train_mean+train_std, color='#DDDDDD')\n",
    "plt.fill_between(np.arange(1,250, 2), test_mean-test_std,test_mean+test_std, color='#DDDDDD' )\n",
    "plt.xlabel('n_estimators')\n",
    "plt.ylabel('accuracy scores')\n",
    "plt.title('Validation Curve')\n",
    "ax= plt.gca()\n",
    "ax.xaxis.set_minor_locator(plt.MultipleLocator(10));"
   ]
  },
  {
   "cell_type": "code",
   "execution_count": null,
   "id": "b8e21a32-625e-415a-ac6a-9673bfe98b42",
   "metadata": {},
   "outputs": [],
   "source": []
  }
 ],
 "metadata": {
  "kernelspec": {
   "display_name": "Python 3 (ipykernel)",
   "language": "python",
   "name": "python3"
  },
  "language_info": {
   "codemirror_mode": {
    "name": "ipython",
    "version": 3
   },
   "file_extension": ".py",
   "mimetype": "text/x-python",
   "name": "python",
   "nbconvert_exporter": "python",
   "pygments_lexer": "ipython3",
   "version": "3.9.7"
  }
 },
 "nbformat": 4,
 "nbformat_minor": 5
}
