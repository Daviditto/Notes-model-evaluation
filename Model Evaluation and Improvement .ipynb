{
 "cells": [
  {
   "cell_type": "markdown",
   "id": "53fa25fd-4ca6-4781-8b7b-b61d2be370b2",
   "metadata": {},
   "source": [
    "# Model Evaluation and Improvement"
   ]
  },
  {
   "cell_type": "code",
   "execution_count": 1,
   "id": "3e5ffad8-c328-4fed-b3aa-1f707f538ea8",
   "metadata": {},
   "outputs": [],
   "source": [
    "from sklearn.datasets import make_blobs\n",
    "from sklearn.linear_model import LogisticRegression\n",
    "from sklearn.model_selection import train_test_split"
   ]
  },
  {
   "cell_type": "code",
   "execution_count": 4,
   "id": "9ca8aea0-4398-445d-8bcb-8d660ff1bc7b",
   "metadata": {},
   "outputs": [],
   "source": [
    "X, y = make_blobs(random_state=0)"
   ]
  },
  {
   "cell_type": "code",
   "execution_count": 5,
   "id": "f4a493b6-725d-45ee-b7c8-3df0f20a05ab",
   "metadata": {},
   "outputs": [],
   "source": [
    "Xtrain,Xtest,ytrain,ytest= train_test_split(X,y,random_state=0)"
   ]
  },
  {
   "cell_type": "code",
   "execution_count": 6,
   "id": "afa9f1e9-866e-49b8-8362-d8cf279ca326",
   "metadata": {},
   "outputs": [],
   "source": [
    "log=LogisticRegression().fit(Xtrain,ytrain)"
   ]
  },
  {
   "cell_type": "code",
   "execution_count": 11,
   "id": "457bf72e-0d7c-4dae-8c9b-1eafe6cb5987",
   "metadata": {},
   "outputs": [
    {
     "name": "stdout",
     "output_type": "stream",
     "text": [
      "test score: 0.88\n"
     ]
    }
   ],
   "source": [
    "print(f'test score: {log.score(Xtest,ytest)}')"
   ]
  },
  {
   "cell_type": "code",
   "execution_count": 12,
   "id": "2f7c979a-3374-43fa-ad3b-35eeedde25d7",
   "metadata": {},
   "outputs": [],
   "source": [
    "import mglearn"
   ]
  },
  {
   "cell_type": "code",
   "execution_count": 14,
   "id": "1168316a-9deb-47c3-8556-9db9d2d875bd",
   "metadata": {},
   "outputs": [
    {
     "data": {
      "image/png": "[encoded data removed]",
      "text/plain": [
       "<Figure size 864x144 with 1 Axes>"
      ]
     },
     "metadata": {
      "needs_background": "light"
     },
     "output_type": "display_data"
    }
   ],
   "source": [
    "mglearn.plots.plot_cross_validation()"
   ]
  },
  {
   "cell_type": "code",
   "execution_count": 25,
   "id": "ace18a44-27ea-4a54-8779-87c0a8304f40",
   "metadata": {},
   "outputs": [],
   "source": [
    "from sklearn.datasets import load_iris\n",
    "from sklearn.model_selection import cross_val_score\n",
    "from sklearn.svm import SVC"
   ]
  },
  {
   "cell_type": "code",
   "execution_count": 17,
   "id": "9b472df4-542b-4fa2-903e-b12f6228e341",
   "metadata": {},
   "outputs": [],
   "source": [
    "iris = load_iris()"
   ]
  },
  {
   "cell_type": "code",
   "execution_count": 27,
   "id": "99235603-cfd1-4f45-a1aa-51235c54c34b",
   "metadata": {},
   "outputs": [],
   "source": [
    "svc= SVC()"
   ]
  },
  {
   "cell_type": "code",
   "execution_count": 30,
   "id": "4f17b662-ea03-448b-bf95-7d9a07f3cabf",
   "metadata": {},
   "outputs": [
    {
     "name": "stdout",
     "output_type": "stream",
     "text": [
      "cross validation score: [0.96666667 0.96666667 0.96666667 0.93333333 1.        ]\n"
     ]
    }
   ],
   "source": [
    "scores = cross_val_score(svc, iris.data, iris.target)\n",
    "print(f'cross validation score: {scores}')"
   ]
  },
  {
   "cell_type": "code",
   "execution_count": 38,
   "id": "7ad82f07-c327-4b50-ae18-4cf4b21cfc9c",
   "metadata": {},
   "outputs": [
    {
     "name": "stdout",
     "output_type": "stream",
     "text": [
      "mean score: 0.93\n"
     ]
    }
   ],
   "source": [
    "mean_score = scores.min()\n",
    "print('mean score: {:.2f}'.format(mean_score))"
   ]
  },
  {
   "cell_type": "code",
   "execution_count": null,
   "id": "cade7ab4-3d19-410c-9662-6b0acfddb7aa",
   "metadata": {},
   "outputs": [],
   "source": []
  },
  {
   "cell_type": "markdown",
   "id": "59aa4fc7-000a-4263-b5be-845cde72f36c",
   "metadata": {},
   "source": [
    "## Stratified k-Fold Cross-Validation and Other Strategies"
   ]
  },
  {
   "cell_type": "code",
   "execution_count": 64,
   "id": "a0f7998c-0914-41a3-a3ae-889b87e5ad79",
   "metadata": {},
   "outputs": [
    {
     "data": {
      "text/plain": [
       "array([0, 0, 0, 0, 0, 0, 0, 0, 0, 0, 0, 0, 0, 0, 0, 0, 0, 0, 0, 0, 0, 0,\n",
       "       0, 0, 0, 0, 0, 0, 0, 0, 0, 0, 0, 0, 0, 0, 0, 0, 0, 0, 0, 0, 0, 0,\n",
       "       0, 0, 0, 0, 0, 0, 1, 1, 1, 1, 1, 1, 1, 1, 1, 1, 1, 1, 1, 1, 1, 1,\n",
       "       1, 1, 1, 1, 1, 1, 1, 1, 1, 1, 1, 1, 1, 1, 1, 1, 1, 1, 1, 1, 1, 1,\n",
       "       1, 1, 1, 1, 1, 1, 1, 1, 1, 1, 1, 1, 2, 2, 2, 2, 2, 2, 2, 2, 2, 2,\n",
       "       2, 2, 2, 2, 2, 2, 2, 2, 2, 2, 2, 2, 2, 2, 2, 2, 2, 2, 2, 2, 2, 2,\n",
       "       2, 2, 2, 2, 2, 2, 2, 2, 2, 2, 2, 2, 2, 2, 2, 2, 2, 2])"
      ]
     },
     "execution_count": 64,
     "metadata": {},
     "output_type": "execute_result"
    }
   ],
   "source": [
    "iris.target"
   ]
  },
  {
   "cell_type": "code",
   "execution_count": 72,
   "id": "d9a4bc0e-6229-4063-8391-bbda4a606402",
   "metadata": {},
   "outputs": [
    {
     "data": {
      "text/plain": [
       "array([0.96, 0.98, 0.94])"
      ]
     },
     "execution_count": 72,
     "metadata": {},
     "output_type": "execute_result"
    }
   ],
   "source": [
    "cross_val_score(svc, iris.data, iris.target, cv=3)"
   ]
  },
  {
   "cell_type": "code",
   "execution_count": 66,
   "id": "cc048101-a908-4140-ae6a-09c5bb0e3238",
   "metadata": {},
   "outputs": [],
   "source": [
    "from sklearn.model_selection import KFold"
   ]
  },
  {
   "cell_type": "code",
   "execution_count": 67,
   "id": "3d549ae0-ac53-4b6f-b88d-549179176e1f",
   "metadata": {},
   "outputs": [],
   "source": [
    "kfold = KFold(n_splits=3)"
   ]
  },
  {
   "cell_type": "code",
   "execution_count": 69,
   "id": "9e6e66b5-d36b-4004-a371-f36a560cd7c3",
   "metadata": {},
   "outputs": [
    {
     "data": {
      "text/plain": [
       "array([0., 0., 0.])"
      ]
     },
     "execution_count": 69,
     "metadata": {},
     "output_type": "execute_result"
    }
   ],
   "source": [
    "cross_val_score(svc, iris.data, iris.target, cv=kfold)\n",
    "#each fold corresponds to one of the classes in the iris dataset, and so nothing can be learned."
   ]
  },
  {
   "cell_type": "code",
   "execution_count": 74,
   "id": "6c9c8302-69da-49dc-8af8-50c1d15e156c",
   "metadata": {},
   "outputs": [
    {
     "data": {
      "image/png": "[encoded data removed]",
      "text/plain": [
       "<Figure size 864x360 with 2 Axes>"
      ]
     },
     "metadata": {
      "needs_background": "light"
     },
     "output_type": "display_data"
    }
   ],
   "source": [
    "mglearn.plots.plot_stratified_cross_validation()"
   ]
  },
  {
   "cell_type": "code",
   "execution_count": 51,
   "id": "75e64600-6cfb-4c5a-86ae-2071849d8e53",
   "metadata": {},
   "outputs": [],
   "source": [
    "from sklearn.model_selection import StratifiedKFold"
   ]
  },
  {
   "cell_type": "code",
   "execution_count": 70,
   "id": "147587d9-4d0b-4d3e-9684-b2697fea32d1",
   "metadata": {},
   "outputs": [],
   "source": [
    "k = StratifiedKFold(n_splits=3)"
   ]
  },
  {
   "cell_type": "code",
   "execution_count": 79,
   "id": "4a0d7d09-b95b-415d-9600-97fff779b13a",
   "metadata": {},
   "outputs": [
    {
     "name": "stdout",
     "output_type": "stream",
     "text": [
      "[0.96 0.98 0.94]\n"
     ]
    }
   ],
   "source": [
    "scores = cross_val_score(svc, iris.data, iris.target, cv=k)\n",
    "print(scores)"
   ]
  },
  {
   "cell_type": "markdown",
   "id": "c1edf99f-00cd-406e-86e1-137657e17155",
   "metadata": {},
   "source": [
    "### shuffle the data instead of stratifying the folds"
   ]
  },
  {
   "cell_type": "code",
   "execution_count": 76,
   "id": "668890ee-20f5-4b33-922e-822a2851e905",
   "metadata": {},
   "outputs": [],
   "source": [
    "k2 = KFold(n_splits=3, shuffle=True, random_state=0)"
   ]
  },
  {
   "cell_type": "code",
   "execution_count": 80,
   "id": "48f1d39d-b157-4062-a5ec-c96302c3d67b",
   "metadata": {},
   "outputs": [
    {
     "name": "stdout",
     "output_type": "stream",
     "text": [
      "[0.98 0.94 0.96]\n"
     ]
    }
   ],
   "source": [
    "scores = cross_val_score(svc, iris.data, iris.target, cv=k2)\n",
    "print(scores)"
   ]
  },
  {
   "cell_type": "markdown",
   "id": "c7f4cbfa-a5d3-4f30-8b4a-8db396fdf862",
   "metadata": {},
   "source": [
    "### Leave-one-out cross-validation"
   ]
  },
  {
   "cell_type": "code",
   "execution_count": 81,
   "id": "36dff878-bc94-422a-bb15-0a40c345ace9",
   "metadata": {},
   "outputs": [],
   "source": [
    "from sklearn.model_selection import LeaveOneOut"
   ]
  },
  {
   "cell_type": "code",
   "execution_count": 82,
   "id": "5fbfdf65-42a3-4ed8-94ff-c541d58ee50c",
   "metadata": {},
   "outputs": [],
   "source": [
    "loo = LeaveOneOut()"
   ]
  },
  {
   "cell_type": "code",
   "execution_count": 83,
   "id": "9fc0835d-7985-4368-a742-d160625910ff",
   "metadata": {},
   "outputs": [],
   "source": [
    "scores2 = cross_val_score(svc, iris.data, iris.target, cv=loo)"
   ]
  },
  {
   "cell_type": "code",
   "execution_count": 86,
   "id": "fe2f4de4-c45f-4c57-b752-057b5d01d023",
   "metadata": {},
   "outputs": [
    {
     "name": "stdout",
     "output_type": "stream",
     "text": [
      "number of cv iteration: 150\n",
      "Mean accuracy: 0.96\n"
     ]
    }
   ],
   "source": [
    "print(f'number of cv iteration: {len(scores2)}')\n",
    "print('Mean accuracy: {:.2f}'.format(scores.mean()))"
   ]
  },
  {
   "cell_type": "markdown",
   "id": "1bacd793-e7f1-47d6-b87b-817f22d0a6cf",
   "metadata": {
    "tags": []
   },
   "source": [
    "### Shuffle-split cross-validation"
   ]
  },
  {
   "cell_type": "code",
   "execution_count": 88,
   "id": "e0368ec2-7492-4f00-afa1-cd17bc965656",
   "metadata": {},
   "outputs": [
    {
     "data": {
      "image/png": "[encoded data removed]",
      "text/plain": [
       "<Figure size 720x144 with 1 Axes>"
      ]
     },
     "metadata": {
      "needs_background": "light"
     },
     "output_type": "display_data"
    }
   ],
   "source": [
    "mglearn.plots.plot_shuffle_split()"
   ]
  },
  {
   "cell_type": "code",
   "execution_count": 89,
   "id": "4bbabcfa-4bc8-45eb-b602-4529a010e88f",
   "metadata": {},
   "outputs": [],
   "source": [
    "from sklearn.model_selection import ShuffleSplit"
   ]
  },
  {
   "cell_type": "code",
   "execution_count": 103,
   "id": "f76efde5-2cd3-43ca-86ff-b7cd2a867abd",
   "metadata": {},
   "outputs": [],
   "source": [
    "shuffle2 = ShuffleSplit(train_size=0.5, test_size=0.5, n_splits=10)"
   ]
  },
  {
   "cell_type": "code",
   "execution_count": 110,
   "id": "465c0d1b-4569-4c14-bb8d-eeac6d819238",
   "metadata": {},
   "outputs": [
    {
     "name": "stdout",
     "output_type": "stream",
     "text": [
      "mean score: 0.95\n"
     ]
    }
   ],
   "source": [
    "scroes = cross_val_score(svc,iris.data,iris.target, cv=shuffle2)\n",
    "print('mean score: {:.2f}'.format(scores.mean()))"
   ]
  },
  {
   "cell_type": "code",
   "execution_count": 97,
   "id": "533c1227-655f-4451-859a-fceb7cbd0314",
   "metadata": {},
   "outputs": [],
   "source": [
    "from sklearn.model_selection import StratifiedShuffleSplit"
   ]
  },
  {
   "cell_type": "code",
   "execution_count": 98,
   "id": "734a3934-39cd-4dab-ab57-97be6e99d26e",
   "metadata": {},
   "outputs": [],
   "source": [
    "sfl = StratifiedShuffleSplit(train_size=0.5, test_size=0.5, n_splits=10)"
   ]
  },
  {
   "cell_type": "code",
   "execution_count": 111,
   "id": "4e7de694-2f63-493b-93a7-86d1a453b614",
   "metadata": {},
   "outputs": [
    {
     "name": "stdout",
     "output_type": "stream",
     "text": [
      "mean score: 0.95\n"
     ]
    }
   ],
   "source": [
    "scores = cross_val_score(svc, iris.data, iris.target, cv=sfl)\n",
    "print('mean score: {:.2f}'.format(scores.mean()))"
   ]
  },
  {
   "cell_type": "markdown",
   "id": "bacf5946-5d73-4eaa-a7c0-ac044cf71e30",
   "metadata": {},
   "source": [
    "### Cross-validation with groups"
   ]
  },
  {
   "cell_type": "code",
   "execution_count": 113,
   "id": "62569c8a-5b16-4667-8b74-999f3f4b6fa9",
   "metadata": {},
   "outputs": [],
   "source": [
    "from sklearn.model_selection import GroupKFold"
   ]
  },
  {
   "cell_type": "code",
   "execution_count": 114,
   "id": "ee70dc62-84c2-4576-80ae-3af59bd8301d",
   "metadata": {},
   "outputs": [],
   "source": [
    "X,y = make_blobs(n_samples=12, random_state=0)"
   ]
  },
  {
   "cell_type": "code",
   "execution_count": 115,
   "id": "bedaf80a-70b9-45fb-bf9b-1f31e0276228",
   "metadata": {},
   "outputs": [],
   "source": [
    "group = [0,0,0,1,1,1,1,2,2,3,3,3]"
   ]
  },
  {
   "cell_type": "code",
   "execution_count": 118,
   "id": "1cf22735-a624-4363-8f08-8b47caead77b",
   "metadata": {},
   "outputs": [
    {
     "name": "stdout",
     "output_type": "stream",
     "text": [
      "[0.75       0.4        0.66666667]\n"
     ]
    },
    {
     "name": "stderr",
     "output_type": "stream",
     "text": [
      "/Users/david/opt/anaconda3/lib/python3.9/site-packages/sklearn/utils/validation.py:70: FutureWarning: Pass groups=[0, 0, 0, 1, 1, 1, 1, 2, 2, 3, 3, 3] as keyword args. From version 1.0 (renaming of 0.25) passing these as positional arguments will result in an error\n",
      "  warnings.warn(f\"Pass {args_msg} as keyword args. From version \"\n"
     ]
    }
   ],
   "source": [
    "scores = cross_val_score(svc, X, y, group, cv=GroupKFold(n_splits=3))\n",
    "print(scores)"
   ]
  },
  {
   "cell_type": "markdown",
   "id": "d169da6b-3507-4ec6-857f-3b61b098007b",
   "metadata": {},
   "source": [
    "# Grid Search"
   ]
  },
  {
   "cell_type": "markdown",
   "id": "9dc8d9b0-fbab-40b8-9ae7-9791dbf8d5fb",
   "metadata": {
    "tags": []
   },
   "source": [
    "### Simple Grid Search"
   ]
  },
  {
   "cell_type": "code",
   "execution_count": 133,
   "id": "6bf2db92-07b6-4639-9886-649994910d8b",
   "metadata": {},
   "outputs": [
    {
     "name": "stdout",
     "output_type": "stream",
     "text": [
      "train size: 112\n",
      "test size: 38\n",
      "best score: 0.45\n",
      "best params: {'gamma': 100, 'C': 100}\n"
     ]
    }
   ],
   "source": [
    "Xtrain,Xtest,ytrain,ytest = train_test_split(iris.data, iris.target, random_state=0)\n",
    "print(f'train size: {Xtrain.shape[0]}')\n",
    "print(f'test size: {Xtest.shape[0]}')\n",
    "best_score = 0\n",
    "for gamma in [0.001, 0.01, 0.1, 1, 10, 100]:\n",
    "    for C in [0.001, 0.01, 0.1, 1, 10, 100]:\n",
    "        svc = SVC(kernel='rbf', gamma=gamma, C=C)\n",
    "        svc.fit(Xtrain, ytrain)\n",
    "        score = svc.score(Xtest, ytest)\n",
    "        if score > best_score:\n",
    "            best_socre = score\n",
    "            best_params = {'gamma':gamma, 'C':C}\n",
    "            \n",
    "print('best score: {:.2f}'.format(score))\n",
    "print('best params: {}'.format(best_params))"
   ]
  },
  {
   "cell_type": "code",
   "execution_count": 134,
   "id": "f8b38ac5-e0de-492c-a95d-25d496c6c154",
   "metadata": {},
   "outputs": [],
   "source": [
    "from sklearn.model_selection import GridSearchCV"
   ]
  },
  {
   "cell_type": "code",
   "execution_count": 137,
   "id": "ee4612fc-6e0b-4df1-b599-dd301ca3a81d",
   "metadata": {},
   "outputs": [],
   "source": [
    "param = {'gamma':[0.001, 0.01, 0.1, 1, 10, 100], 'C':[0.001, 0.01, 0.1, 1, 10, 100]}"
   ]
  },
  {
   "cell_type": "code",
   "execution_count": 138,
   "id": "f4a48298-154f-4fd8-83bf-4e1385c2b2ef",
   "metadata": {},
   "outputs": [],
   "source": [
    "svc2 = SVC()"
   ]
  },
  {
   "cell_type": "code",
   "execution_count": 139,
   "id": "d0b0e19c-c5bc-44a0-994d-c8d8166a3357",
   "metadata": {},
   "outputs": [],
   "source": [
    "grid = GridSearchCV(svc2, param, cv=10)"
   ]
  },
  {
   "cell_type": "code",
   "execution_count": 144,
   "id": "02e47832-1feb-4c79-9a77-7b07b554d7c3",
   "metadata": {},
   "outputs": [
    {
     "data": {
      "text/plain": [
       "0.9818181818181818"
      ]
     },
     "execution_count": 144,
     "metadata": {},
     "output_type": "execute_result"
    }
   ],
   "source": [
    "grid.best_score_"
   ]
  },
  {
   "cell_type": "code",
   "execution_count": 140,
   "id": "6dac5c28-83be-4a78-812b-d2a8931494c1",
   "metadata": {},
   "outputs": [
    {
     "data": {
      "text/plain": [
       "GridSearchCV(cv=10, estimator=SVC(),\n",
       "             param_grid={'C': [0.001, 0.01, 0.1, 1, 10, 100],\n",
       "                         'gamma': [0.001, 0.01, 0.1, 1, 10, 100]})"
      ]
     },
     "execution_count": 140,
     "metadata": {},
     "output_type": "execute_result"
    }
   ],
   "source": [
    "grid.fit(Xtrain,ytrain)"
   ]
  },
  {
   "cell_type": "code",
   "execution_count": 141,
   "id": "d9c14c28-e827-44fc-a503-2fa02023b9f3",
   "metadata": {},
   "outputs": [
    {
     "data": {
      "text/plain": [
       "{'C': 10, 'gamma': 0.1}"
      ]
     },
     "execution_count": 141,
     "metadata": {},
     "output_type": "execute_result"
    }
   ],
   "source": [
    "grid.best_params_"
   ]
  },
  {
   "cell_type": "code",
   "execution_count": 143,
   "id": "40ea6bd6-3597-48d0-99ae-007dcd1f6000",
   "metadata": {},
   "outputs": [
    {
     "data": {
      "text/plain": [
       "0.9736842105263158"
      ]
     },
     "execution_count": 143,
     "metadata": {},
     "output_type": "execute_result"
    }
   ],
   "source": [
    "grid.best_estimator_.score(Xtest,ytest)"
   ]
  },
  {
   "cell_type": "code",
   "execution_count": 146,
   "id": "fb920627-2bac-4817-a123-1a403caa163a",
   "metadata": {},
   "outputs": [
    {
     "data": {
      "text/plain": [
       "array([2, 1, 0, 2, 0, 2, 0, 1, 1, 1, 2, 1, 1, 1, 1, 0, 1, 1, 0, 0, 2, 1,\n",
       "       0, 0, 2, 0, 0, 1, 1, 0, 2, 1, 0, 2, 2, 1, 0, 2])"
      ]
     },
     "execution_count": 146,
     "metadata": {},
     "output_type": "execute_result"
    }
   ],
   "source": [
    "grid.best_estimator_.predict(Xtest)"
   ]
  },
  {
   "cell_type": "code",
   "execution_count": null,
   "id": "800ada7f-4669-4538-8861-b3500fbd89bd",
   "metadata": {},
   "outputs": [],
   "source": []
  },
  {
   "cell_type": "markdown",
   "id": "22184d9b-c2ed-4cea-bb22-fa89736cab9e",
   "metadata": {},
   "source": [
    "### The Danger of Overfitting the Parameters and the Validation Set"
   ]
  },
  {
   "cell_type": "code",
   "execution_count": 147,
   "id": "d8e01ca0-cf5e-4d0c-9c4b-74311c65142f",
   "metadata": {},
   "outputs": [
    {
     "data": {
      "image/png": "[encoded data removed]",
      "text/plain": [
       "<Figure size 1080x72 with 1 Axes>"
      ]
     },
     "metadata": {
      "needs_background": "light"
     },
     "output_type": "display_data"
    }
   ],
   "source": [
    "mglearn.plots.plot_threefold_split()"
   ]
  },
  {
   "cell_type": "code",
   "execution_count": 148,
   "id": "17412d0f-1fe8-4380-84d2-7db9afbdb387",
   "metadata": {},
   "outputs": [],
   "source": [
    "from sklearn.svm import SVC"
   ]
  },
  {
   "cell_type": "code",
   "execution_count": 149,
   "id": "4a7cf537-af74-45f0-8ab1-7ebc13311a12",
   "metadata": {},
   "outputs": [],
   "source": [
    "Xtrainval, Xtest, ytrainval, ytest = train_test_split(iris.data, iris.target, random_state=0)"
   ]
  },
  {
   "cell_type": "code",
   "execution_count": 150,
   "id": "d9a8d456-9025-43e4-84f6-d090ace822c9",
   "metadata": {},
   "outputs": [],
   "source": [
    "Xtrain, Xval, ytrain, yval = train_test_split(Xtrainval, ytrainval, random_state=0)"
   ]
  },
  {
   "cell_type": "code",
   "execution_count": 154,
   "id": "c69a93a0-c851-4a8c-a38a-ed796fc45f48",
   "metadata": {},
   "outputs": [
    {
     "name": "stdout",
     "output_type": "stream",
     "text": [
      "training size: 84\n",
      "validation size: 28\n",
      "test size: 38\n"
     ]
    }
   ],
   "source": [
    "print(f'training size: {Xtrain.shape[0]}')\n",
    "print(f'validation size: {Xval.shape[0]}')\n",
    "print(f'test size: {Xtest.shape[0]}')"
   ]
  },
  {
   "cell_type": "code",
   "execution_count": 158,
   "id": "a4bf7e06-646a-4af4-8005-1524778abf7f",
   "metadata": {},
   "outputs": [],
   "source": [
    "best_score = 0"
   ]
  },
  {
   "cell_type": "code",
   "execution_count": 161,
   "id": "9903b10b-ea7f-4264-9d9b-7217726f09b3",
   "metadata": {},
   "outputs": [
    {
     "name": "stdout",
     "output_type": "stream",
     "text": [
      "best score on validation set: 1.0\n",
      "best parameters: {'gamma': 0.001, 'C': 100}\n",
      "test score: 0.9736842105263158\n"
     ]
    }
   ],
   "source": [
    "for gamma in [0.001, 0.01, 0.1, 1, 10, 100]:\n",
    "    for C in [0.001, 0.01, 0.1, 1, 10, 100]:\n",
    "        svc = SVC(gamma=gamma, C=C)\n",
    "        svc.fit(Xtrain, ytrain)\n",
    "        score = svc.score(Xval, yval)\n",
    "        if score>best_score:\n",
    "            best_score = score\n",
    "            best_params={'gamma':gamma, 'C':C}\n",
    "svm = SVC(**best_params)\n",
    "svm.fit(Xtrainval, ytrainval)\n",
    "test_score = svm.score(Xtest, ytest)\n",
    "print(f'best score on validation set: {best_score}')\n",
    "print(f'best parameters: {best_params}')\n",
    "print(f'test score: {test_score}')"
   ]
  },
  {
   "cell_type": "markdown",
   "id": "f36f80d7-6d98-4dea-ad0f-2868be043c7c",
   "metadata": {},
   "source": [
    "### Grid Search with Cross-Validation"
   ]
  },
  {
   "cell_type": "code",
   "execution_count": 165,
   "id": "174163cc-24c6-40f3-b150-5abec45340ca",
   "metadata": {},
   "outputs": [],
   "source": [
    "best_score=0\n",
    "import numpy as np"
   ]
  },
  {
   "cell_type": "code",
   "execution_count": 169,
   "id": "c23294a7-b42d-4b1e-8cb0-24c660a95c14",
   "metadata": {},
   "outputs": [
    {
     "name": "stdout",
     "output_type": "stream",
     "text": [
      "best parameters:{'gamma': 0.1, 'C': 10}\n",
      "best score: 0.9736842105263158\n"
     ]
    }
   ],
   "source": [
    "for gamma in [0.001, 0.01, 0.1, 1, 10, 100]:\n",
    "    for C in [0.001, 0.01, 0.1, 1, 10, 100]:\n",
    "        svc = SVC(gamma=gamma, C=C)\n",
    "        scores = cross_val_score(svc, Xtrainval, ytrainval, cv=5)\n",
    "        score = np.mean(scores)\n",
    "        if score>best_score:\n",
    "            best_score=score\n",
    "            best_param = {'gamma':gamma, 'C':C}\n",
    "svc = SVC(**best_param)\n",
    "print(f'best parameters:{best_param}')\n",
    "svc.fit(Xtrainval, ytrainval)\n",
    "best_score = svc.score(Xtest, ytest)\n",
    "print(f'best score: {best_score}')"
   ]
  },
  {
   "cell_type": "code",
   "execution_count": 173,
   "id": "1f65737f-7b76-449a-a25b-d041f6a8130d",
   "metadata": {},
   "outputs": [
    {
     "data": {
      "image/png": "[encoded data removed]",
      "text/plain": [
       "<Figure size 700x210 with 1 Axes>"
      ]
     },
     "metadata": {
      "needs_background": "light"
     },
     "output_type": "display_data"
    }
   ],
   "source": [
    "mglearn.plots.plot_grid_search_overview()"
   ]
  },
  {
   "cell_type": "code",
   "execution_count": 174,
   "id": "d642b841-b134-477e-a57b-cddbff57cc59",
   "metadata": {},
   "outputs": [],
   "source": [
    "from sklearn.model_selection import GridSearchCV"
   ]
  },
  {
   "cell_type": "code",
   "execution_count": 252,
   "id": "e73f63ba-e82d-4da6-b835-103e246599f8",
   "metadata": {},
   "outputs": [],
   "source": [
    "params = {'gamma':[0.001, 0.01, 0.1, 1, 10, 100], 'C': [0.001, 0.01, 0.1, 1, 10, 100]}"
   ]
  },
  {
   "cell_type": "code",
   "execution_count": 253,
   "id": "a4ef292b-3a8e-48e7-a006-1cbbeaeb9205",
   "metadata": {},
   "outputs": [],
   "source": [
    "grid = GridSearchCV(SVC(), params, cv=5)"
   ]
  },
  {
   "cell_type": "code",
   "execution_count": 177,
   "id": "5067a7bc-e7b8-4670-9bf4-b51e71dc5f25",
   "metadata": {},
   "outputs": [
    {
     "data": {
      "text/plain": [
       "0.9736842105263158"
      ]
     },
     "execution_count": 177,
     "metadata": {},
     "output_type": "execute_result"
    }
   ],
   "source": [
    "Xtrain, Xtest, ytrain, ytest = train_test_split(iris.data, iris.target, random_state=0)\n",
    "grid.fit(Xtrain, ytrain)\n",
    "grid.score(Xtest,ytest)"
   ]
  },
  {
   "cell_type": "code",
   "execution_count": 179,
   "id": "381674a8-bdc2-47b7-a1da-f5b446ab9fa5",
   "metadata": {},
   "outputs": [
    {
     "name": "stdout",
     "output_type": "stream",
     "text": [
      "best parameters: {'C': 10, 'gamma': 0.1}\n",
      "best score: 0.9731225296442687\n",
      "best estimator: SVC(C=10, gamma=0.1)\n"
     ]
    }
   ],
   "source": [
    "print(f'best parameters: {grid.best_params_}')\n",
    "print(f'best score: {grid.best_score_}')\n",
    "print(f'best estimator: {grid.best_estimator_}')"
   ]
  },
  {
   "cell_type": "code",
   "execution_count": 221,
   "id": "0754f344-ef1e-4c8a-a306-e62c3b455d50",
   "metadata": {},
   "outputs": [
    {
     "data": {
      "text/plain": [
       "{'cv': 5,\n",
       " 'error_score': nan,\n",
       " 'estimator__C': 1.0,\n",
       " 'estimator__break_ties': False,\n",
       " 'estimator__cache_size': 200,\n",
       " 'estimator__class_weight': None,\n",
       " 'estimator__coef0': 0.0,\n",
       " 'estimator__decision_function_shape': 'ovr',\n",
       " 'estimator__degree': 3,\n",
       " 'estimator__gamma': 'scale',\n",
       " 'estimator__kernel': 'rbf',\n",
       " 'estimator__max_iter': -1,\n",
       " 'estimator__probability': False,\n",
       " 'estimator__random_state': None,\n",
       " 'estimator__shrinking': True,\n",
       " 'estimator__tol': 0.001,\n",
       " 'estimator__verbose': False,\n",
       " 'estimator': SVC(),\n",
       " 'n_jobs': None,\n",
       " 'param_grid': [{'gamma': [0.001, 0.01, 0.1, 1, 10, 100],\n",
       "   'C': [0.001, 0.01, 0.1, 1, 10, 100]}],\n",
       " 'pre_dispatch': '2*n_jobs',\n",
       " 'refit': True,\n",
       " 'return_train_score': False,\n",
       " 'scoring': None,\n",
       " 'verbose': 0}"
      ]
     },
     "execution_count": 221,
     "metadata": {},
     "output_type": "execute_result"
    }
   ],
   "source": [
    "grid.get_params()"
   ]
  },
  {
   "cell_type": "code",
   "execution_count": 183,
   "id": "f8bcf467-6c48-4083-8d0c-2872357976e6",
   "metadata": {},
   "outputs": [
    {
     "data": {
      "text/plain": [
       "{'C': 10, 'gamma': 0.1}"
      ]
     },
     "execution_count": 183,
     "metadata": {},
     "output_type": "execute_result"
    }
   ],
   "source": [
    "grid.best_params_"
   ]
  },
  {
   "cell_type": "code",
   "execution_count": 227,
   "id": "a5e60bee-ccd4-44d5-9727-6a0e3e11716f",
   "metadata": {},
   "outputs": [
    {
     "data": {
      "text/plain": [
       "{'C': 10,\n",
       " 'break_ties': False,\n",
       " 'cache_size': 200,\n",
       " 'class_weight': None,\n",
       " 'coef0': 0.0,\n",
       " 'decision_function_shape': 'ovr',\n",
       " 'degree': 3,\n",
       " 'gamma': 0.1,\n",
       " 'kernel': 'rbf',\n",
       " 'max_iter': -1,\n",
       " 'probability': False,\n",
       " 'random_state': None,\n",
       " 'shrinking': True,\n",
       " 'tol': 0.001,\n",
       " 'verbose': False}"
      ]
     },
     "execution_count": 227,
     "metadata": {},
     "output_type": "execute_result"
    }
   ],
   "source": [
    "grid.best_estimator_.get_params()"
   ]
  },
  {
   "cell_type": "code",
   "execution_count": 224,
   "id": "4e9a6863-b64f-4118-9914-8826f7e6205b",
   "metadata": {},
   "outputs": [
    {
     "data": {
      "text/plain": [
       "10"
      ]
     },
     "execution_count": 224,
     "metadata": {},
     "output_type": "execute_result"
    }
   ],
   "source": [
    "grid.best_estimator_.get_params()['C']"
   ]
  },
  {
   "cell_type": "markdown",
   "id": "908851ab-d5f0-4bfe-9c27-9adf923e9492",
   "metadata": {
    "tags": []
   },
   "source": [
    "### Analyzing the result of cross-validation"
   ]
  },
  {
   "cell_type": "code",
   "execution_count": 229,
   "id": "1de7c301-aed6-4fb8-a9e7-023944737ddc",
   "metadata": {},
   "outputs": [],
   "source": [
    "import pandas as pd"
   ]
  },
  {
   "cell_type": "code",
   "execution_count": 235,
   "id": "14c5bc70-9579-45c0-84b1-980cda93404b",
   "metadata": {},
   "outputs": [],
   "source": [
    "results = pd.DataFrame(grid.cv_results_)"
   ]
  },
  {
   "cell_type": "code",
   "execution_count": 236,
   "id": "654dfe7d-7ed3-4170-8ccf-a388bc029620",
   "metadata": {},
   "outputs": [
    {
     "data": {
      "text/html": [
       "<div>\n",
       "<style scoped>\n",
       "    .dataframe tbody tr th:only-of-type {\n",
       "        vertical-align: middle;\n",
       "    }\n",
       "\n",
       "    .dataframe tbody tr th {\n",
       "        vertical-align: top;\n",
       "    }\n",
       "\n",
       "    .dataframe thead th {\n",
       "        text-align: right;\n",
       "    }\n",
       "</style>\n",
       "<table border=\"1\" class=\"dataframe\">\n",
       "  <thead>\n",
       "    <tr style=\"text-align: right;\">\n",
       "      <th></th>\n",
       "      <th>mean_fit_time</th>\n",
       "      <th>std_fit_time</th>\n",
       "      <th>mean_score_time</th>\n",
       "      <th>std_score_time</th>\n",
       "      <th>param_C</th>\n",
       "      <th>param_gamma</th>\n",
       "      <th>params</th>\n",
       "      <th>split0_test_score</th>\n",
       "      <th>split1_test_score</th>\n",
       "      <th>split2_test_score</th>\n",
       "      <th>split3_test_score</th>\n",
       "      <th>split4_test_score</th>\n",
       "      <th>mean_test_score</th>\n",
       "      <th>std_test_score</th>\n",
       "      <th>rank_test_score</th>\n",
       "    </tr>\n",
       "  </thead>\n",
       "  <tbody>\n",
       "    <tr>\n",
       "      <th>0</th>\n",
       "      <td>0.002306</td>\n",
       "      <td>0.000929</td>\n",
       "      <td>0.000945</td>\n",
       "      <td>0.000315</td>\n",
       "      <td>0.001</td>\n",
       "      <td>0.001</td>\n",
       "      <td>{'C': 0.001, 'gamma': 0.001}</td>\n",
       "      <td>0.347826</td>\n",
       "      <td>0.347826</td>\n",
       "      <td>0.363636</td>\n",
       "      <td>0.363636</td>\n",
       "      <td>0.409091</td>\n",
       "      <td>0.366403</td>\n",
       "      <td>0.022485</td>\n",
       "      <td>22</td>\n",
       "    </tr>\n",
       "    <tr>\n",
       "      <th>1</th>\n",
       "      <td>0.001783</td>\n",
       "      <td>0.000681</td>\n",
       "      <td>0.000696</td>\n",
       "      <td>0.000132</td>\n",
       "      <td>0.001</td>\n",
       "      <td>0.01</td>\n",
       "      <td>{'C': 0.001, 'gamma': 0.01}</td>\n",
       "      <td>0.347826</td>\n",
       "      <td>0.347826</td>\n",
       "      <td>0.363636</td>\n",
       "      <td>0.363636</td>\n",
       "      <td>0.409091</td>\n",
       "      <td>0.366403</td>\n",
       "      <td>0.022485</td>\n",
       "      <td>22</td>\n",
       "    </tr>\n",
       "    <tr>\n",
       "      <th>2</th>\n",
       "      <td>0.001297</td>\n",
       "      <td>0.000225</td>\n",
       "      <td>0.000775</td>\n",
       "      <td>0.000159</td>\n",
       "      <td>0.001</td>\n",
       "      <td>0.1</td>\n",
       "      <td>{'C': 0.001, 'gamma': 0.1}</td>\n",
       "      <td>0.347826</td>\n",
       "      <td>0.347826</td>\n",
       "      <td>0.363636</td>\n",
       "      <td>0.363636</td>\n",
       "      <td>0.409091</td>\n",
       "      <td>0.366403</td>\n",
       "      <td>0.022485</td>\n",
       "      <td>22</td>\n",
       "    </tr>\n",
       "    <tr>\n",
       "      <th>3</th>\n",
       "      <td>0.001530</td>\n",
       "      <td>0.000517</td>\n",
       "      <td>0.000679</td>\n",
       "      <td>0.000201</td>\n",
       "      <td>0.001</td>\n",
       "      <td>1</td>\n",
       "      <td>{'C': 0.001, 'gamma': 1}</td>\n",
       "      <td>0.347826</td>\n",
       "      <td>0.347826</td>\n",
       "      <td>0.363636</td>\n",
       "      <td>0.363636</td>\n",
       "      <td>0.409091</td>\n",
       "      <td>0.366403</td>\n",
       "      <td>0.022485</td>\n",
       "      <td>22</td>\n",
       "    </tr>\n",
       "    <tr>\n",
       "      <th>4</th>\n",
       "      <td>0.000901</td>\n",
       "      <td>0.000081</td>\n",
       "      <td>0.000445</td>\n",
       "      <td>0.000052</td>\n",
       "      <td>0.001</td>\n",
       "      <td>10</td>\n",
       "      <td>{'C': 0.001, 'gamma': 10}</td>\n",
       "      <td>0.347826</td>\n",
       "      <td>0.347826</td>\n",
       "      <td>0.363636</td>\n",
       "      <td>0.363636</td>\n",
       "      <td>0.409091</td>\n",
       "      <td>0.366403</td>\n",
       "      <td>0.022485</td>\n",
       "      <td>22</td>\n",
       "    </tr>\n",
       "  </tbody>\n",
       "</table>\n",
       "</div>"
      ],
      "text/plain": [
       "   mean_fit_time  std_fit_time  mean_score_time  std_score_time param_C  \\\n",
       "0       0.002306      0.000929         0.000945        0.000315   0.001   \n",
       "1       0.001783      0.000681         0.000696        0.000132   0.001   \n",
       "2       0.001297      0.000225         0.000775        0.000159   0.001   \n",
       "3       0.001530      0.000517         0.000679        0.000201   0.001   \n",
       "4       0.000901      0.000081         0.000445        0.000052   0.001   \n",
       "\n",
       "  param_gamma                        params  split0_test_score  \\\n",
       "0       0.001  {'C': 0.001, 'gamma': 0.001}           0.347826   \n",
       "1        0.01   {'C': 0.001, 'gamma': 0.01}           0.347826   \n",
       "2         0.1    {'C': 0.001, 'gamma': 0.1}           0.347826   \n",
       "3           1      {'C': 0.001, 'gamma': 1}           0.347826   \n",
       "4          10     {'C': 0.001, 'gamma': 10}           0.347826   \n",
       "\n",
       "   split1_test_score  split2_test_score  split3_test_score  split4_test_score  \\\n",
       "0           0.347826           0.363636           0.363636           0.409091   \n",
       "1           0.347826           0.363636           0.363636           0.409091   \n",
       "2           0.347826           0.363636           0.363636           0.409091   \n",
       "3           0.347826           0.363636           0.363636           0.409091   \n",
       "4           0.347826           0.363636           0.363636           0.409091   \n",
       "\n",
       "   mean_test_score  std_test_score  rank_test_score  \n",
       "0         0.366403        0.022485               22  \n",
       "1         0.366403        0.022485               22  \n",
       "2         0.366403        0.022485               22  \n",
       "3         0.366403        0.022485               22  \n",
       "4         0.366403        0.022485               22  "
      ]
     },
     "execution_count": 236,
     "metadata": {},
     "output_type": "execute_result"
    }
   ],
   "source": [
    "results.head()"
   ]
  },
  {
   "cell_type": "code",
   "execution_count": 248,
   "id": "046c53b5-db7d-40bb-b098-bfd3e027c248",
   "metadata": {},
   "outputs": [
    {
     "data": {
      "text/plain": [
       "array([[0.36640316, 0.36640316, 0.36640316, 0.36640316, 0.36640316,\n",
       "        0.36640316],\n",
       "       [0.36640316, 0.36640316, 0.36640316, 0.36640316, 0.36640316,\n",
       "        0.36640316],\n",
       "       [0.36640316, 0.69644269, 0.90158103, 0.95533597, 0.36640316,\n",
       "        0.36640316],\n",
       "       [0.69644269, 0.93794466, 0.96403162, 0.94664032, 0.9284585 ,\n",
       "        0.50158103],\n",
       "       [0.93794466, 0.96403162, 0.97312253, 0.94624506, 0.91106719,\n",
       "        0.58142292],\n",
       "       [0.96403162, 0.96442688, 0.95494071, 0.94624506, 0.91106719,\n",
       "        0.58142292]])"
      ]
     },
     "execution_count": 248,
     "metadata": {},
     "output_type": "execute_result"
    }
   ],
   "source": [
    "scoreavg = np.array(results.mean_test_score).reshape(6,6)\n",
    "scoreavg"
   ]
  },
  {
   "cell_type": "code",
   "execution_count": 255,
   "id": "95655580-9071-4a3f-9b46-4447923da598",
   "metadata": {},
   "outputs": [
    {
     "data": {
      "image/png": "[encoded data removed]",
      "text/plain": [
       "<Figure size 432x288 with 1 Axes>"
      ]
     },
     "metadata": {
      "needs_background": "light"
     },
     "output_type": "display_data"
    }
   ],
   "source": [
    "mglearn.tools.heatmap(scoreavg, xlabel='gamma', ylabel='C',xticklabels=params['gamma'], yticklabels=params['C'],  cmap='viridis');"
   ]
  },
  {
   "cell_type": "code",
   "execution_count": 258,
   "id": "93951ed7-8792-46d3-a768-4f13830ec446",
   "metadata": {},
   "outputs": [],
   "source": [
    "from matplotlib import pyplot as plt"
   ]
  },
  {
   "cell_type": "code",
   "execution_count": 262,
   "id": "1466d0eb-4ace-48dd-b5b0-9cdc6a6b8247",
   "metadata": {},
   "outputs": [
    {
     "data": {
      "image/png": "[encoded data removed]",
      "text/plain": [
       "<Figure size 936x360 with 3 Axes>"
      ]
     },
     "metadata": {
      "needs_background": "light"
     },
     "output_type": "display_data"
    }
   ],
   "source": [
    "fig, axes = plt.subplots(1,3,figsize=(13, 5), gridspec_kw=dict(hspace=0.1, wspace=0.5))\n",
    "param_grid_linear = {'C': np.linspace(1, 2, 6), 'gamma': np.linspace(1, 2, 6)}\n",
    "param_grid_one_log = {'C': np.linspace(1, 2, 6), 'gamma': np.logspace(-3, 2, 6)}\n",
    "param_grid_range = {'C': np.logspace(-3, 2, 6), 'gamma': np.logspace(-7, -2, 6)}\n",
    "for params, ax in zip([param_grid_linear, param_grid_one_log, param_grid_range], axes):\n",
    "    grid_search = GridSearchCV(SVC(), params, cv=5)\n",
    "    grid_search.fit(Xtrain, ytrain)\n",
    "    means = grid_search.cv_results_['mean_test_score'].reshape(6,6)\n",
    "    mglearn.tools.heatmap(means, xlabel='gamma', ylabel='C', xticklabels=params['gamma'], yticklabels=params['C'], cmap='viridis', ax=ax)"
   ]
  },
  {
   "cell_type": "markdown",
   "id": "d2f8c539-2cb8-4a5f-a080-d513025b67b2",
   "metadata": {},
   "source": [
    "### Search over spaces that are not grids"
   ]
  },
  {
   "cell_type": "code",
   "execution_count": 266,
   "id": "9a76c347-f98a-4224-979b-12f062351337",
   "metadata": {},
   "outputs": [],
   "source": [
    "params1 = [{'kernel':['rbf'], 'gamma':[0.001, 0.01, 0.1, 1, 10, 100], 'C':[0.001, 0.01, 0.1, 1, 10, 100]},{'kernel':['linear'], 'C':[0.001, 0.01, 0.1, 1, 10, 100]}]"
   ]
  },
  {
   "cell_type": "code",
   "execution_count": 267,
   "id": "151b02ce-ded3-488e-a6ca-155d2f74b2a5",
   "metadata": {},
   "outputs": [
    {
     "data": {
      "text/plain": [
       "GridSearchCV(cv=5, estimator=SVC(),\n",
       "             param_grid=[{'C': [0.001, 0.01, 0.1, 1, 10, 100],\n",
       "                          'gamma': [0.001, 0.01, 0.1, 1, 10, 100],\n",
       "                          'kernel': ['rbf']},\n",
       "                         {'C': [0.001, 0.01, 0.1, 1, 10, 100],\n",
       "                          'kernel': ['linear']}])"
      ]
     },
     "execution_count": 267,
     "metadata": {},
     "output_type": "execute_result"
    }
   ],
   "source": [
    "grid3 = GridSearchCV(SVC(), params1, cv=5)\n",
    "grid3.fit(Xtrain, ytrain)"
   ]
  },
  {
   "cell_type": "code",
   "execution_count": 272,
   "id": "2360d6c9-2fdf-4110-b078-a95c893e57bf",
   "metadata": {},
   "outputs": [
    {
     "name": "stdout",
     "output_type": "stream",
     "text": [
      "best score: 0.9731225296442687\n",
      "best estimator: SVC(C=10, gamma=0.1)\n",
      "best estimator parameters: {'C': 10, 'break_ties': False, 'cache_size': 200, 'class_weight': None, 'coef0': 0.0, 'decision_function_shape': 'ovr', 'degree': 3, 'gamma': 0.1, 'kernel': 'rbf', 'max_iter': -1, 'probability': False, 'random_state': None, 'shrinking': True, 'tol': 0.001, 'verbose': False}\n"
     ]
    }
   ],
   "source": [
    "print(f'best score: {grid3.best_score_}')\n",
    "print(f'best estimator: {grid3.best_estimator_}')\n",
    "print(f'best estimator parameters: {grid3.best_estimator_.get_params()}')"
   ]
  },
  {
   "cell_type": "code",
   "execution_count": 273,
   "id": "909b8a82-76a7-4930-ab5d-c909e82e6e79",
   "metadata": {},
   "outputs": [],
   "source": [
    "results = grid3.cv_results_"
   ]
  },
  {
   "cell_type": "code",
   "execution_count": 281,
   "id": "986d1f66-21a9-4c69-9397-45067178c4e1",
   "metadata": {},
   "outputs": [
    {
     "data": {
      "text/html": [
       "<div>\n",
       "<style scoped>\n",
       "    .dataframe tbody tr th:only-of-type {\n",
       "        vertical-align: middle;\n",
       "    }\n",
       "\n",
       "    .dataframe tbody tr th {\n",
       "        vertical-align: top;\n",
       "    }\n",
       "\n",
       "    .dataframe thead th {\n",
       "        text-align: right;\n",
       "    }\n",
       "</style>\n",
       "<table border=\"1\" class=\"dataframe\">\n",
       "  <thead>\n",
       "    <tr style=\"text-align: right;\">\n",
       "      <th></th>\n",
       "      <th>0</th>\n",
       "      <th>1</th>\n",
       "      <th>2</th>\n",
       "      <th>3</th>\n",
       "      <th>4</th>\n",
       "      <th>5</th>\n",
       "      <th>6</th>\n",
       "      <th>7</th>\n",
       "      <th>8</th>\n",
       "      <th>9</th>\n",
       "      <th>...</th>\n",
       "      <th>32</th>\n",
       "      <th>33</th>\n",
       "      <th>34</th>\n",
       "      <th>35</th>\n",
       "      <th>36</th>\n",
       "      <th>37</th>\n",
       "      <th>38</th>\n",
       "      <th>39</th>\n",
       "      <th>40</th>\n",
       "      <th>41</th>\n",
       "    </tr>\n",
       "  </thead>\n",
       "  <tbody>\n",
       "    <tr>\n",
       "      <th>mean_fit_time</th>\n",
       "      <td>0.004255</td>\n",
       "      <td>0.001656</td>\n",
       "      <td>0.000983</td>\n",
       "      <td>0.000968</td>\n",
       "      <td>0.001276</td>\n",
       "      <td>0.000865</td>\n",
       "      <td>0.000819</td>\n",
       "      <td>0.000779</td>\n",
       "      <td>0.000766</td>\n",
       "      <td>0.000754</td>\n",
       "      <td>...</td>\n",
       "      <td>0.000426</td>\n",
       "      <td>0.000567</td>\n",
       "      <td>0.000895</td>\n",
       "      <td>0.000948</td>\n",
       "      <td>0.001184</td>\n",
       "      <td>0.000605</td>\n",
       "      <td>0.000563</td>\n",
       "      <td>0.000509</td>\n",
       "      <td>0.00048</td>\n",
       "      <td>0.000545</td>\n",
       "    </tr>\n",
       "    <tr>\n",
       "      <th>std_fit_time</th>\n",
       "      <td>0.004574</td>\n",
       "      <td>0.000573</td>\n",
       "      <td>0.000085</td>\n",
       "      <td>0.000104</td>\n",
       "      <td>0.000573</td>\n",
       "      <td>0.000047</td>\n",
       "      <td>0.000007</td>\n",
       "      <td>0.000026</td>\n",
       "      <td>0.000026</td>\n",
       "      <td>0.000006</td>\n",
       "      <td>...</td>\n",
       "      <td>0.000009</td>\n",
       "      <td>0.000023</td>\n",
       "      <td>0.000026</td>\n",
       "      <td>0.00012</td>\n",
       "      <td>0.000836</td>\n",
       "      <td>0.000027</td>\n",
       "      <td>0.000066</td>\n",
       "      <td>0.000061</td>\n",
       "      <td>0.000014</td>\n",
       "      <td>0.000102</td>\n",
       "    </tr>\n",
       "    <tr>\n",
       "      <th>mean_score_time</th>\n",
       "      <td>0.001127</td>\n",
       "      <td>0.000801</td>\n",
       "      <td>0.000575</td>\n",
       "      <td>0.000548</td>\n",
       "      <td>0.000495</td>\n",
       "      <td>0.000454</td>\n",
       "      <td>0.000416</td>\n",
       "      <td>0.000403</td>\n",
       "      <td>0.000407</td>\n",
       "      <td>0.000377</td>\n",
       "      <td>...</td>\n",
       "      <td>0.000257</td>\n",
       "      <td>0.000271</td>\n",
       "      <td>0.000359</td>\n",
       "      <td>0.000465</td>\n",
       "      <td>0.000291</td>\n",
       "      <td>0.00026</td>\n",
       "      <td>0.000263</td>\n",
       "      <td>0.000239</td>\n",
       "      <td>0.000224</td>\n",
       "      <td>0.000238</td>\n",
       "    </tr>\n",
       "    <tr>\n",
       "      <th>std_score_time</th>\n",
       "      <td>0.000875</td>\n",
       "      <td>0.000239</td>\n",
       "      <td>0.000184</td>\n",
       "      <td>0.000214</td>\n",
       "      <td>0.000046</td>\n",
       "      <td>0.00005</td>\n",
       "      <td>0.000003</td>\n",
       "      <td>0.000019</td>\n",
       "      <td>0.000051</td>\n",
       "      <td>0.000002</td>\n",
       "      <td>...</td>\n",
       "      <td>0.000038</td>\n",
       "      <td>0.000005</td>\n",
       "      <td>0.000008</td>\n",
       "      <td>0.000085</td>\n",
       "      <td>0.000065</td>\n",
       "      <td>0.000026</td>\n",
       "      <td>0.000049</td>\n",
       "      <td>0.00002</td>\n",
       "      <td>0.000005</td>\n",
       "      <td>0.000037</td>\n",
       "    </tr>\n",
       "    <tr>\n",
       "      <th>param_C</th>\n",
       "      <td>0.001</td>\n",
       "      <td>0.001</td>\n",
       "      <td>0.001</td>\n",
       "      <td>0.001</td>\n",
       "      <td>0.001</td>\n",
       "      <td>0.001</td>\n",
       "      <td>0.01</td>\n",
       "      <td>0.01</td>\n",
       "      <td>0.01</td>\n",
       "      <td>0.01</td>\n",
       "      <td>...</td>\n",
       "      <td>100</td>\n",
       "      <td>100</td>\n",
       "      <td>100</td>\n",
       "      <td>100</td>\n",
       "      <td>0.001</td>\n",
       "      <td>0.01</td>\n",
       "      <td>0.1</td>\n",
       "      <td>1</td>\n",
       "      <td>10</td>\n",
       "      <td>100</td>\n",
       "    </tr>\n",
       "    <tr>\n",
       "      <th>param_gamma</th>\n",
       "      <td>0.001</td>\n",
       "      <td>0.01</td>\n",
       "      <td>0.1</td>\n",
       "      <td>1</td>\n",
       "      <td>10</td>\n",
       "      <td>100</td>\n",
       "      <td>0.001</td>\n",
       "      <td>0.01</td>\n",
       "      <td>0.1</td>\n",
       "      <td>1</td>\n",
       "      <td>...</td>\n",
       "      <td>0.1</td>\n",
       "      <td>1</td>\n",
       "      <td>10</td>\n",
       "      <td>100</td>\n",
       "      <td>NaN</td>\n",
       "      <td>NaN</td>\n",
       "      <td>NaN</td>\n",
       "      <td>NaN</td>\n",
       "      <td>NaN</td>\n",
       "      <td>NaN</td>\n",
       "    </tr>\n",
       "    <tr>\n",
       "      <th>param_kernel</th>\n",
       "      <td>rbf</td>\n",
       "      <td>rbf</td>\n",
       "      <td>rbf</td>\n",
       "      <td>rbf</td>\n",
       "      <td>rbf</td>\n",
       "      <td>rbf</td>\n",
       "      <td>rbf</td>\n",
       "      <td>rbf</td>\n",
       "      <td>rbf</td>\n",
       "      <td>rbf</td>\n",
       "      <td>...</td>\n",
       "      <td>rbf</td>\n",
       "      <td>rbf</td>\n",
       "      <td>rbf</td>\n",
       "      <td>rbf</td>\n",
       "      <td>linear</td>\n",
       "      <td>linear</td>\n",
       "      <td>linear</td>\n",
       "      <td>linear</td>\n",
       "      <td>linear</td>\n",
       "      <td>linear</td>\n",
       "    </tr>\n",
       "    <tr>\n",
       "      <th>params</th>\n",
       "      <td>{'C': 0.001, 'gamma': 0.001, 'kernel': 'rbf'}</td>\n",
       "      <td>{'C': 0.001, 'gamma': 0.01, 'kernel': 'rbf'}</td>\n",
       "      <td>{'C': 0.001, 'gamma': 0.1, 'kernel': 'rbf'}</td>\n",
       "      <td>{'C': 0.001, 'gamma': 1, 'kernel': 'rbf'}</td>\n",
       "      <td>{'C': 0.001, 'gamma': 10, 'kernel': 'rbf'}</td>\n",
       "      <td>{'C': 0.001, 'gamma': 100, 'kernel': 'rbf'}</td>\n",
       "      <td>{'C': 0.01, 'gamma': 0.001, 'kernel': 'rbf'}</td>\n",
       "      <td>{'C': 0.01, 'gamma': 0.01, 'kernel': 'rbf'}</td>\n",
       "      <td>{'C': 0.01, 'gamma': 0.1, 'kernel': 'rbf'}</td>\n",
       "      <td>{'C': 0.01, 'gamma': 1, 'kernel': 'rbf'}</td>\n",
       "      <td>...</td>\n",
       "      <td>{'C': 100, 'gamma': 0.1, 'kernel': 'rbf'}</td>\n",
       "      <td>{'C': 100, 'gamma': 1, 'kernel': 'rbf'}</td>\n",
       "      <td>{'C': 100, 'gamma': 10, 'kernel': 'rbf'}</td>\n",
       "      <td>{'C': 100, 'gamma': 100, 'kernel': 'rbf'}</td>\n",
       "      <td>{'C': 0.001, 'kernel': 'linear'}</td>\n",
       "      <td>{'C': 0.01, 'kernel': 'linear'}</td>\n",
       "      <td>{'C': 0.1, 'kernel': 'linear'}</td>\n",
       "      <td>{'C': 1, 'kernel': 'linear'}</td>\n",
       "      <td>{'C': 10, 'kernel': 'linear'}</td>\n",
       "      <td>{'C': 100, 'kernel': 'linear'}</td>\n",
       "    </tr>\n",
       "    <tr>\n",
       "      <th>split0_test_score</th>\n",
       "      <td>0.347826</td>\n",
       "      <td>0.347826</td>\n",
       "      <td>0.347826</td>\n",
       "      <td>0.347826</td>\n",
       "      <td>0.347826</td>\n",
       "      <td>0.347826</td>\n",
       "      <td>0.347826</td>\n",
       "      <td>0.347826</td>\n",
       "      <td>0.347826</td>\n",
       "      <td>0.347826</td>\n",
       "      <td>...</td>\n",
       "      <td>1.0</td>\n",
       "      <td>0.956522</td>\n",
       "      <td>0.869565</td>\n",
       "      <td>0.521739</td>\n",
       "      <td>0.347826</td>\n",
       "      <td>0.869565</td>\n",
       "      <td>1.0</td>\n",
       "      <td>1.0</td>\n",
       "      <td>1.0</td>\n",
       "      <td>0.956522</td>\n",
       "    </tr>\n",
       "    <tr>\n",
       "      <th>split1_test_score</th>\n",
       "      <td>0.347826</td>\n",
       "      <td>0.347826</td>\n",
       "      <td>0.347826</td>\n",
       "      <td>0.347826</td>\n",
       "      <td>0.347826</td>\n",
       "      <td>0.347826</td>\n",
       "      <td>0.347826</td>\n",
       "      <td>0.347826</td>\n",
       "      <td>0.347826</td>\n",
       "      <td>0.347826</td>\n",
       "      <td>...</td>\n",
       "      <td>0.956522</td>\n",
       "      <td>0.956522</td>\n",
       "      <td>0.913043</td>\n",
       "      <td>0.521739</td>\n",
       "      <td>0.347826</td>\n",
       "      <td>0.869565</td>\n",
       "      <td>0.913043</td>\n",
       "      <td>0.956522</td>\n",
       "      <td>1.0</td>\n",
       "      <td>0.956522</td>\n",
       "    </tr>\n",
       "    <tr>\n",
       "      <th>split2_test_score</th>\n",
       "      <td>0.363636</td>\n",
       "      <td>0.363636</td>\n",
       "      <td>0.363636</td>\n",
       "      <td>0.363636</td>\n",
       "      <td>0.363636</td>\n",
       "      <td>0.363636</td>\n",
       "      <td>0.363636</td>\n",
       "      <td>0.363636</td>\n",
       "      <td>0.363636</td>\n",
       "      <td>0.363636</td>\n",
       "      <td>...</td>\n",
       "      <td>1.0</td>\n",
       "      <td>1.0</td>\n",
       "      <td>1.0</td>\n",
       "      <td>0.590909</td>\n",
       "      <td>0.363636</td>\n",
       "      <td>0.772727</td>\n",
       "      <td>1.0</td>\n",
       "      <td>1.0</td>\n",
       "      <td>1.0</td>\n",
       "      <td>1.0</td>\n",
       "    </tr>\n",
       "    <tr>\n",
       "      <th>split3_test_score</th>\n",
       "      <td>0.363636</td>\n",
       "      <td>0.363636</td>\n",
       "      <td>0.363636</td>\n",
       "      <td>0.363636</td>\n",
       "      <td>0.363636</td>\n",
       "      <td>0.363636</td>\n",
       "      <td>0.363636</td>\n",
       "      <td>0.363636</td>\n",
       "      <td>0.363636</td>\n",
       "      <td>0.363636</td>\n",
       "      <td>...</td>\n",
       "      <td>0.863636</td>\n",
       "      <td>0.863636</td>\n",
       "      <td>0.818182</td>\n",
       "      <td>0.590909</td>\n",
       "      <td>0.363636</td>\n",
       "      <td>0.772727</td>\n",
       "      <td>0.909091</td>\n",
       "      <td>0.954545</td>\n",
       "      <td>0.909091</td>\n",
       "      <td>0.909091</td>\n",
       "    </tr>\n",
       "    <tr>\n",
       "      <th>split4_test_score</th>\n",
       "      <td>0.409091</td>\n",
       "      <td>0.409091</td>\n",
       "      <td>0.409091</td>\n",
       "      <td>0.409091</td>\n",
       "      <td>0.409091</td>\n",
       "      <td>0.409091</td>\n",
       "      <td>0.409091</td>\n",
       "      <td>0.409091</td>\n",
       "      <td>0.409091</td>\n",
       "      <td>0.409091</td>\n",
       "      <td>...</td>\n",
       "      <td>0.954545</td>\n",
       "      <td>0.954545</td>\n",
       "      <td>0.954545</td>\n",
       "      <td>0.681818</td>\n",
       "      <td>0.409091</td>\n",
       "      <td>0.909091</td>\n",
       "      <td>0.954545</td>\n",
       "      <td>0.954545</td>\n",
       "      <td>0.954545</td>\n",
       "      <td>0.954545</td>\n",
       "    </tr>\n",
       "    <tr>\n",
       "      <th>mean_test_score</th>\n",
       "      <td>0.366403</td>\n",
       "      <td>0.366403</td>\n",
       "      <td>0.366403</td>\n",
       "      <td>0.366403</td>\n",
       "      <td>0.366403</td>\n",
       "      <td>0.366403</td>\n",
       "      <td>0.366403</td>\n",
       "      <td>0.366403</td>\n",
       "      <td>0.366403</td>\n",
       "      <td>0.366403</td>\n",
       "      <td>...</td>\n",
       "      <td>0.954941</td>\n",
       "      <td>0.946245</td>\n",
       "      <td>0.911067</td>\n",
       "      <td>0.581423</td>\n",
       "      <td>0.366403</td>\n",
       "      <td>0.838735</td>\n",
       "      <td>0.955336</td>\n",
       "      <td>0.973123</td>\n",
       "      <td>0.972727</td>\n",
       "      <td>0.955336</td>\n",
       "    </tr>\n",
       "    <tr>\n",
       "      <th>std_test_score</th>\n",
       "      <td>0.022485</td>\n",
       "      <td>0.022485</td>\n",
       "      <td>0.022485</td>\n",
       "      <td>0.022485</td>\n",
       "      <td>0.022485</td>\n",
       "      <td>0.022485</td>\n",
       "      <td>0.022485</td>\n",
       "      <td>0.022485</td>\n",
       "      <td>0.022485</td>\n",
       "      <td>0.022485</td>\n",
       "      <td>...</td>\n",
       "      <td>0.049799</td>\n",
       "      <td>0.044708</td>\n",
       "      <td>0.063488</td>\n",
       "      <td>0.058964</td>\n",
       "      <td>0.022485</td>\n",
       "      <td>0.055794</td>\n",
       "      <td>0.039794</td>\n",
       "      <td>0.021957</td>\n",
       "      <td>0.036364</td>\n",
       "      <td>0.028764</td>\n",
       "    </tr>\n",
       "    <tr>\n",
       "      <th>rank_test_score</th>\n",
       "      <td>27</td>\n",
       "      <td>27</td>\n",
       "      <td>27</td>\n",
       "      <td>27</td>\n",
       "      <td>27</td>\n",
       "      <td>27</td>\n",
       "      <td>27</td>\n",
       "      <td>27</td>\n",
       "      <td>27</td>\n",
       "      <td>27</td>\n",
       "      <td>...</td>\n",
       "      <td>11</td>\n",
       "      <td>13</td>\n",
       "      <td>18</td>\n",
       "      <td>24</td>\n",
       "      <td>27</td>\n",
       "      <td>21</td>\n",
       "      <td>8</td>\n",
       "      <td>1</td>\n",
       "      <td>3</td>\n",
       "      <td>8</td>\n",
       "    </tr>\n",
       "  </tbody>\n",
       "</table>\n",
       "<p>16 rows × 42 columns</p>\n",
       "</div>"
      ],
      "text/plain": [
       "                                                              0   \\\n",
       "mean_fit_time                                           0.004255   \n",
       "std_fit_time                                            0.004574   \n",
       "mean_score_time                                         0.001127   \n",
       "std_score_time                                          0.000875   \n",
       "param_C                                                    0.001   \n",
       "param_gamma                                                0.001   \n",
       "param_kernel                                                 rbf   \n",
       "params             {'C': 0.001, 'gamma': 0.001, 'kernel': 'rbf'}   \n",
       "split0_test_score                                       0.347826   \n",
       "split1_test_score                                       0.347826   \n",
       "split2_test_score                                       0.363636   \n",
       "split3_test_score                                       0.363636   \n",
       "split4_test_score                                       0.409091   \n",
       "mean_test_score                                         0.366403   \n",
       "std_test_score                                          0.022485   \n",
       "rank_test_score                                               27   \n",
       "\n",
       "                                                             1   \\\n",
       "mean_fit_time                                          0.001656   \n",
       "std_fit_time                                           0.000573   \n",
       "mean_score_time                                        0.000801   \n",
       "std_score_time                                         0.000239   \n",
       "param_C                                                   0.001   \n",
       "param_gamma                                                0.01   \n",
       "param_kernel                                                rbf   \n",
       "params             {'C': 0.001, 'gamma': 0.01, 'kernel': 'rbf'}   \n",
       "split0_test_score                                      0.347826   \n",
       "split1_test_score                                      0.347826   \n",
       "split2_test_score                                      0.363636   \n",
       "split3_test_score                                      0.363636   \n",
       "split4_test_score                                      0.409091   \n",
       "mean_test_score                                        0.366403   \n",
       "std_test_score                                         0.022485   \n",
       "rank_test_score                                              27   \n",
       "\n",
       "                                                            2   \\\n",
       "mean_fit_time                                         0.000983   \n",
       "std_fit_time                                          0.000085   \n",
       "mean_score_time                                       0.000575   \n",
       "std_score_time                                        0.000184   \n",
       "param_C                                                  0.001   \n",
       "param_gamma                                                0.1   \n",
       "param_kernel                                               rbf   \n",
       "params             {'C': 0.001, 'gamma': 0.1, 'kernel': 'rbf'}   \n",
       "split0_test_score                                     0.347826   \n",
       "split1_test_score                                     0.347826   \n",
       "split2_test_score                                     0.363636   \n",
       "split3_test_score                                     0.363636   \n",
       "split4_test_score                                     0.409091   \n",
       "mean_test_score                                       0.366403   \n",
       "std_test_score                                        0.022485   \n",
       "rank_test_score                                             27   \n",
       "\n",
       "                                                          3   \\\n",
       "mean_fit_time                                       0.000968   \n",
       "std_fit_time                                        0.000104   \n",
       "mean_score_time                                     0.000548   \n",
       "std_score_time                                      0.000214   \n",
       "param_C                                                0.001   \n",
       "param_gamma                                                1   \n",
       "param_kernel                                             rbf   \n",
       "params             {'C': 0.001, 'gamma': 1, 'kernel': 'rbf'}   \n",
       "split0_test_score                                   0.347826   \n",
       "split1_test_score                                   0.347826   \n",
       "split2_test_score                                   0.363636   \n",
       "split3_test_score                                   0.363636   \n",
       "split4_test_score                                   0.409091   \n",
       "mean_test_score                                     0.366403   \n",
       "std_test_score                                      0.022485   \n",
       "rank_test_score                                           27   \n",
       "\n",
       "                                                           4   \\\n",
       "mean_fit_time                                        0.001276   \n",
       "std_fit_time                                         0.000573   \n",
       "mean_score_time                                      0.000495   \n",
       "std_score_time                                       0.000046   \n",
       "param_C                                                 0.001   \n",
       "param_gamma                                                10   \n",
       "param_kernel                                              rbf   \n",
       "params             {'C': 0.001, 'gamma': 10, 'kernel': 'rbf'}   \n",
       "split0_test_score                                    0.347826   \n",
       "split1_test_score                                    0.347826   \n",
       "split2_test_score                                    0.363636   \n",
       "split3_test_score                                    0.363636   \n",
       "split4_test_score                                    0.409091   \n",
       "mean_test_score                                      0.366403   \n",
       "std_test_score                                       0.022485   \n",
       "rank_test_score                                            27   \n",
       "\n",
       "                                                            5   \\\n",
       "mean_fit_time                                         0.000865   \n",
       "std_fit_time                                          0.000047   \n",
       "mean_score_time                                       0.000454   \n",
       "std_score_time                                         0.00005   \n",
       "param_C                                                  0.001   \n",
       "param_gamma                                                100   \n",
       "param_kernel                                               rbf   \n",
       "params             {'C': 0.001, 'gamma': 100, 'kernel': 'rbf'}   \n",
       "split0_test_score                                     0.347826   \n",
       "split1_test_score                                     0.347826   \n",
       "split2_test_score                                     0.363636   \n",
       "split3_test_score                                     0.363636   \n",
       "split4_test_score                                     0.409091   \n",
       "mean_test_score                                       0.366403   \n",
       "std_test_score                                        0.022485   \n",
       "rank_test_score                                             27   \n",
       "\n",
       "                                                             6   \\\n",
       "mean_fit_time                                          0.000819   \n",
       "std_fit_time                                           0.000007   \n",
       "mean_score_time                                        0.000416   \n",
       "std_score_time                                         0.000003   \n",
       "param_C                                                    0.01   \n",
       "param_gamma                                               0.001   \n",
       "param_kernel                                                rbf   \n",
       "params             {'C': 0.01, 'gamma': 0.001, 'kernel': 'rbf'}   \n",
       "split0_test_score                                      0.347826   \n",
       "split1_test_score                                      0.347826   \n",
       "split2_test_score                                      0.363636   \n",
       "split3_test_score                                      0.363636   \n",
       "split4_test_score                                      0.409091   \n",
       "mean_test_score                                        0.366403   \n",
       "std_test_score                                         0.022485   \n",
       "rank_test_score                                              27   \n",
       "\n",
       "                                                            7   \\\n",
       "mean_fit_time                                         0.000779   \n",
       "std_fit_time                                          0.000026   \n",
       "mean_score_time                                       0.000403   \n",
       "std_score_time                                        0.000019   \n",
       "param_C                                                   0.01   \n",
       "param_gamma                                               0.01   \n",
       "param_kernel                                               rbf   \n",
       "params             {'C': 0.01, 'gamma': 0.01, 'kernel': 'rbf'}   \n",
       "split0_test_score                                     0.347826   \n",
       "split1_test_score                                     0.347826   \n",
       "split2_test_score                                     0.363636   \n",
       "split3_test_score                                     0.363636   \n",
       "split4_test_score                                     0.409091   \n",
       "mean_test_score                                       0.366403   \n",
       "std_test_score                                        0.022485   \n",
       "rank_test_score                                             27   \n",
       "\n",
       "                                                           8   \\\n",
       "mean_fit_time                                        0.000766   \n",
       "std_fit_time                                         0.000026   \n",
       "mean_score_time                                      0.000407   \n",
       "std_score_time                                       0.000051   \n",
       "param_C                                                  0.01   \n",
       "param_gamma                                               0.1   \n",
       "param_kernel                                              rbf   \n",
       "params             {'C': 0.01, 'gamma': 0.1, 'kernel': 'rbf'}   \n",
       "split0_test_score                                    0.347826   \n",
       "split1_test_score                                    0.347826   \n",
       "split2_test_score                                    0.363636   \n",
       "split3_test_score                                    0.363636   \n",
       "split4_test_score                                    0.409091   \n",
       "mean_test_score                                      0.366403   \n",
       "std_test_score                                       0.022485   \n",
       "rank_test_score                                            27   \n",
       "\n",
       "                                                         9   ...  \\\n",
       "mean_fit_time                                      0.000754  ...   \n",
       "std_fit_time                                       0.000006  ...   \n",
       "mean_score_time                                    0.000377  ...   \n",
       "std_score_time                                     0.000002  ...   \n",
       "param_C                                                0.01  ...   \n",
       "param_gamma                                               1  ...   \n",
       "param_kernel                                            rbf  ...   \n",
       "params             {'C': 0.01, 'gamma': 1, 'kernel': 'rbf'}  ...   \n",
       "split0_test_score                                  0.347826  ...   \n",
       "split1_test_score                                  0.347826  ...   \n",
       "split2_test_score                                  0.363636  ...   \n",
       "split3_test_score                                  0.363636  ...   \n",
       "split4_test_score                                  0.409091  ...   \n",
       "mean_test_score                                    0.366403  ...   \n",
       "std_test_score                                     0.022485  ...   \n",
       "rank_test_score                                          27  ...   \n",
       "\n",
       "                                                          32  \\\n",
       "mean_fit_time                                       0.000426   \n",
       "std_fit_time                                        0.000009   \n",
       "mean_score_time                                     0.000257   \n",
       "std_score_time                                      0.000038   \n",
       "param_C                                                  100   \n",
       "param_gamma                                              0.1   \n",
       "param_kernel                                             rbf   \n",
       "params             {'C': 100, 'gamma': 0.1, 'kernel': 'rbf'}   \n",
       "split0_test_score                                        1.0   \n",
       "split1_test_score                                   0.956522   \n",
       "split2_test_score                                        1.0   \n",
       "split3_test_score                                   0.863636   \n",
       "split4_test_score                                   0.954545   \n",
       "mean_test_score                                     0.954941   \n",
       "std_test_score                                      0.049799   \n",
       "rank_test_score                                           11   \n",
       "\n",
       "                                                        33  \\\n",
       "mean_fit_time                                     0.000567   \n",
       "std_fit_time                                      0.000023   \n",
       "mean_score_time                                   0.000271   \n",
       "std_score_time                                    0.000005   \n",
       "param_C                                                100   \n",
       "param_gamma                                              1   \n",
       "param_kernel                                           rbf   \n",
       "params             {'C': 100, 'gamma': 1, 'kernel': 'rbf'}   \n",
       "split0_test_score                                 0.956522   \n",
       "split1_test_score                                 0.956522   \n",
       "split2_test_score                                      1.0   \n",
       "split3_test_score                                 0.863636   \n",
       "split4_test_score                                 0.954545   \n",
       "mean_test_score                                   0.946245   \n",
       "std_test_score                                    0.044708   \n",
       "rank_test_score                                         13   \n",
       "\n",
       "                                                         34  \\\n",
       "mean_fit_time                                      0.000895   \n",
       "std_fit_time                                       0.000026   \n",
       "mean_score_time                                    0.000359   \n",
       "std_score_time                                     0.000008   \n",
       "param_C                                                 100   \n",
       "param_gamma                                              10   \n",
       "param_kernel                                            rbf   \n",
       "params             {'C': 100, 'gamma': 10, 'kernel': 'rbf'}   \n",
       "split0_test_score                                  0.869565   \n",
       "split1_test_score                                  0.913043   \n",
       "split2_test_score                                       1.0   \n",
       "split3_test_score                                  0.818182   \n",
       "split4_test_score                                  0.954545   \n",
       "mean_test_score                                    0.911067   \n",
       "std_test_score                                     0.063488   \n",
       "rank_test_score                                          18   \n",
       "\n",
       "                                                          35  \\\n",
       "mean_fit_time                                       0.000948   \n",
       "std_fit_time                                         0.00012   \n",
       "mean_score_time                                     0.000465   \n",
       "std_score_time                                      0.000085   \n",
       "param_C                                                  100   \n",
       "param_gamma                                              100   \n",
       "param_kernel                                             rbf   \n",
       "params             {'C': 100, 'gamma': 100, 'kernel': 'rbf'}   \n",
       "split0_test_score                                   0.521739   \n",
       "split1_test_score                                   0.521739   \n",
       "split2_test_score                                   0.590909   \n",
       "split3_test_score                                   0.590909   \n",
       "split4_test_score                                   0.681818   \n",
       "mean_test_score                                     0.581423   \n",
       "std_test_score                                      0.058964   \n",
       "rank_test_score                                           24   \n",
       "\n",
       "                                                 36  \\\n",
       "mean_fit_time                              0.001184   \n",
       "std_fit_time                               0.000836   \n",
       "mean_score_time                            0.000291   \n",
       "std_score_time                             0.000065   \n",
       "param_C                                       0.001   \n",
       "param_gamma                                     NaN   \n",
       "param_kernel                                 linear   \n",
       "params             {'C': 0.001, 'kernel': 'linear'}   \n",
       "split0_test_score                          0.347826   \n",
       "split1_test_score                          0.347826   \n",
       "split2_test_score                          0.363636   \n",
       "split3_test_score                          0.363636   \n",
       "split4_test_score                          0.409091   \n",
       "mean_test_score                            0.366403   \n",
       "std_test_score                             0.022485   \n",
       "rank_test_score                                  27   \n",
       "\n",
       "                                                37  \\\n",
       "mean_fit_time                             0.000605   \n",
       "std_fit_time                              0.000027   \n",
       "mean_score_time                            0.00026   \n",
       "std_score_time                            0.000026   \n",
       "param_C                                       0.01   \n",
       "param_gamma                                    NaN   \n",
       "param_kernel                                linear   \n",
       "params             {'C': 0.01, 'kernel': 'linear'}   \n",
       "split0_test_score                         0.869565   \n",
       "split1_test_score                         0.869565   \n",
       "split2_test_score                         0.772727   \n",
       "split3_test_score                         0.772727   \n",
       "split4_test_score                         0.909091   \n",
       "mean_test_score                           0.838735   \n",
       "std_test_score                            0.055794   \n",
       "rank_test_score                                 21   \n",
       "\n",
       "                                               38  \\\n",
       "mean_fit_time                            0.000563   \n",
       "std_fit_time                             0.000066   \n",
       "mean_score_time                          0.000263   \n",
       "std_score_time                           0.000049   \n",
       "param_C                                       0.1   \n",
       "param_gamma                                   NaN   \n",
       "param_kernel                               linear   \n",
       "params             {'C': 0.1, 'kernel': 'linear'}   \n",
       "split0_test_score                             1.0   \n",
       "split1_test_score                        0.913043   \n",
       "split2_test_score                             1.0   \n",
       "split3_test_score                        0.909091   \n",
       "split4_test_score                        0.954545   \n",
       "mean_test_score                          0.955336   \n",
       "std_test_score                           0.039794   \n",
       "rank_test_score                                 8   \n",
       "\n",
       "                                             39  \\\n",
       "mean_fit_time                          0.000509   \n",
       "std_fit_time                           0.000061   \n",
       "mean_score_time                        0.000239   \n",
       "std_score_time                          0.00002   \n",
       "param_C                                       1   \n",
       "param_gamma                                 NaN   \n",
       "param_kernel                             linear   \n",
       "params             {'C': 1, 'kernel': 'linear'}   \n",
       "split0_test_score                           1.0   \n",
       "split1_test_score                      0.956522   \n",
       "split2_test_score                           1.0   \n",
       "split3_test_score                      0.954545   \n",
       "split4_test_score                      0.954545   \n",
       "mean_test_score                        0.973123   \n",
       "std_test_score                         0.021957   \n",
       "rank_test_score                               1   \n",
       "\n",
       "                                              40  \\\n",
       "mean_fit_time                            0.00048   \n",
       "std_fit_time                            0.000014   \n",
       "mean_score_time                         0.000224   \n",
       "std_score_time                          0.000005   \n",
       "param_C                                       10   \n",
       "param_gamma                                  NaN   \n",
       "param_kernel                              linear   \n",
       "params             {'C': 10, 'kernel': 'linear'}   \n",
       "split0_test_score                            1.0   \n",
       "split1_test_score                            1.0   \n",
       "split2_test_score                            1.0   \n",
       "split3_test_score                       0.909091   \n",
       "split4_test_score                       0.954545   \n",
       "mean_test_score                         0.972727   \n",
       "std_test_score                          0.036364   \n",
       "rank_test_score                                3   \n",
       "\n",
       "                                               41  \n",
       "mean_fit_time                            0.000545  \n",
       "std_fit_time                             0.000102  \n",
       "mean_score_time                          0.000238  \n",
       "std_score_time                           0.000037  \n",
       "param_C                                       100  \n",
       "param_gamma                                   NaN  \n",
       "param_kernel                               linear  \n",
       "params             {'C': 100, 'kernel': 'linear'}  \n",
       "split0_test_score                        0.956522  \n",
       "split1_test_score                        0.956522  \n",
       "split2_test_score                             1.0  \n",
       "split3_test_score                        0.909091  \n",
       "split4_test_score                        0.954545  \n",
       "mean_test_score                          0.955336  \n",
       "std_test_score                           0.028764  \n",
       "rank_test_score                                 8  \n",
       "\n",
       "[16 rows x 42 columns]"
      ]
     },
     "execution_count": 281,
     "metadata": {},
     "output_type": "execute_result"
    }
   ],
   "source": [
    "pd.DataFrame(results).T"
   ]
  },
  {
   "cell_type": "markdown",
   "id": "09e6f679-7849-498f-8013-f272a47b5c90",
   "metadata": {},
   "source": [
    "### Nested cross-validation"
   ]
  },
  {
   "cell_type": "code",
   "execution_count": 283,
   "id": "a936d500-8dea-4dc7-a5b4-1fc794b79769",
   "metadata": {},
   "outputs": [
    {
     "name": "stdout",
     "output_type": "stream",
     "text": [
      "[0.96666667 1.         0.96666667 0.96666667 1.        ]\n"
     ]
    }
   ],
   "source": [
    "scores = cross_val_score(GridSearchCV(SVC(), params, cv=5), iris.data, iris.target, cv=5)\n",
    "print(scores)"
   ]
  },
  {
   "cell_type": "code",
   "execution_count": 285,
   "id": "8682ffef-9f6c-4f7e-bd42-83d76e73e606",
   "metadata": {},
   "outputs": [
    {
     "name": "stdout",
     "output_type": "stream",
     "text": [
      "test mean score: 0.98\n"
     ]
    }
   ],
   "source": [
    "print('test mean score: {:.2f}'.format(scores.mean()))"
   ]
  },
  {
   "cell_type": "markdown",
   "id": "36230f3a-5f90-4ff3-9978-d55791efcca9",
   "metadata": {},
   "source": [
    "# Evaluation Metrics and Scoring"
   ]
  },
  {
   "cell_type": "code",
   "execution_count": 286,
   "id": "a944288c-9f6d-4757-aaad-a96d597ebd77",
   "metadata": {},
   "outputs": [],
   "source": [
    "from sklearn.datasets import load_digits"
   ]
  },
  {
   "cell_type": "code",
   "execution_count": 287,
   "id": "49f4cbc5-c4b5-4d37-a24c-7d17f66cc34a",
   "metadata": {},
   "outputs": [],
   "source": [
    "digits = load_digits()"
   ]
  },
  {
   "cell_type": "code",
   "execution_count": 288,
   "id": "89711d4e-35fd-4829-ac84-87b3232c7e51",
   "metadata": {},
   "outputs": [],
   "source": [
    "y = digits.target==9"
   ]
  },
  {
   "cell_type": "code",
   "execution_count": 289,
   "id": "91dc8577-36ee-4c64-a596-f6710265bc21",
   "metadata": {},
   "outputs": [
    {
     "data": {
      "text/plain": [
       "(1797,)"
      ]
     },
     "execution_count": 289,
     "metadata": {},
     "output_type": "execute_result"
    }
   ],
   "source": [
    "y.shape"
   ]
  },
  {
   "cell_type": "code",
   "execution_count": 297,
   "id": "ecadf560-9aa1-4539-a29a-6d3ad85fbf93",
   "metadata": {},
   "outputs": [
    {
     "data": {
      "text/plain": [
       "array([False,  True])"
      ]
     },
     "execution_count": 297,
     "metadata": {},
     "output_type": "execute_result"
    }
   ],
   "source": [
    "np.unique(y)"
   ]
  },
  {
   "cell_type": "code",
   "execution_count": 290,
   "id": "58af6b96-4c47-41e2-8954-46870da55099",
   "metadata": {},
   "outputs": [
    {
     "data": {
      "text/plain": [
       "(1797, 64)"
      ]
     },
     "execution_count": 290,
     "metadata": {},
     "output_type": "execute_result"
    }
   ],
   "source": [
    "digits.data.shape"
   ]
  },
  {
   "cell_type": "code",
   "execution_count": 292,
   "id": "db923d1b-d3f3-4a58-aa6c-9a864f690e7e",
   "metadata": {},
   "outputs": [],
   "source": [
    "Xtrain, Xtest, ytrain, ytest = train_test_split(digits.data, y, random_state=0)"
   ]
  },
  {
   "cell_type": "code",
   "execution_count": 293,
   "id": "3ee18664-e857-4f57-b247-74c5a702ba23",
   "metadata": {},
   "outputs": [],
   "source": [
    "from sklearn.dummy import DummyClassifier"
   ]
  },
  {
   "cell_type": "code",
   "execution_count": 294,
   "id": "6ae91dc9-0983-4f76-a0a0-af7786645007",
   "metadata": {},
   "outputs": [],
   "source": [
    "dummy_majority = DummyClassifier(strategy='most_frequent').fit(Xtrain,ytrain)"
   ]
  },
  {
   "cell_type": "code",
   "execution_count": 298,
   "id": "810e8f43-b9f6-4f05-b140-a037f08c2386",
   "metadata": {},
   "outputs": [],
   "source": [
    "pred_most = dummy_majority.predict(Xtest)"
   ]
  },
  {
   "cell_type": "code",
   "execution_count": 301,
   "id": "daf96d1b-03f4-4277-98de-71b93a10c034",
   "metadata": {},
   "outputs": [
    {
     "name": "stdout",
     "output_type": "stream",
     "text": [
      "unique predicted label: [False]\n",
      "Test score: 0.90\n"
     ]
    }
   ],
   "source": [
    "print(f'unique predicted label: {np.unique(pred_most)}')\n",
    "print('Test score: {:.2f}'.format(dummy_majority.score(Xtest, ytest)))"
   ]
  },
  {
   "cell_type": "code",
   "execution_count": null,
   "id": "f7f8e94a-6d01-4fab-8c35-d2cacfb5918d",
   "metadata": {},
   "outputs": [],
   "source": []
  },
  {
   "cell_type": "code",
   "execution_count": 315,
   "id": "48e67c46-5b23-4440-9de8-fada3c75487d",
   "metadata": {},
   "outputs": [
    {
     "name": "stdout",
     "output_type": "stream",
     "text": [
      "test score 0.92\n"
     ]
    }
   ],
   "source": [
    "from sklearn.tree import DecisionTreeClassifier\n",
    "tree = DecisionTreeClassifier(max_depth=2).fit(Xtrain, ytrain)\n",
    "pred_tree = tree.predict(Xtest)\n",
    "print('test score {:.2f}'.format(tree.score(Xtest,ytest)))"
   ]
  },
  {
   "cell_type": "code",
   "execution_count": null,
   "id": "3b751810-ccac-4b6f-b97b-070c3d48bfe4",
   "metadata": {},
   "outputs": [],
   "source": []
  },
  {
   "cell_type": "code",
   "execution_count": 327,
   "id": "2a786f66-070f-44f4-9ee3-c2a013586f24",
   "metadata": {},
   "outputs": [
    {
     "name": "stdout",
     "output_type": "stream",
     "text": [
      "test score 0.90\n"
     ]
    }
   ],
   "source": [
    "from sklearn.linear_model import LogisticRegression\n",
    "dummy_ = DummyClassifier().fit(Xtrain, ytrain)\n",
    "pred_dummy = dummy_.predict(Xtest)\n",
    "print('test score {:.2f}'.format(dummy.score(Xtest,ytest)))"
   ]
  },
  {
   "cell_type": "code",
   "execution_count": null,
   "id": "09dc5cc7-8613-4522-9c3d-15e403242c18",
   "metadata": {},
   "outputs": [],
   "source": []
  },
  {
   "cell_type": "code",
   "execution_count": 310,
   "id": "9014ac62-5f65-4ea5-a42e-f69a070afa2a",
   "metadata": {},
   "outputs": [
    {
     "name": "stdout",
     "output_type": "stream",
     "text": [
      "test score 0.98\n"
     ]
    },
    {
     "name": "stderr",
     "output_type": "stream",
     "text": [
      "/Users/david/opt/anaconda3/lib/python3.9/site-packages/sklearn/linear_model/_logistic.py:763: ConvergenceWarning: lbfgs failed to converge (status=1):\n",
      "STOP: TOTAL NO. of ITERATIONS REACHED LIMIT.\n",
      "\n",
      "Increase the number of iterations (max_iter) or scale the data as shown in:\n",
      "    https://scikit-learn.org/stable/modules/preprocessing.html\n",
      "Please also refer to the documentation for alternative solver options:\n",
      "    https://scikit-learn.org/stable/modules/linear_model.html#logistic-regression\n",
      "  n_iter_i = _check_optimize_result(\n"
     ]
    }
   ],
   "source": [
    "leg = LogisticRegression().fit(Xtrain, ytrain)\n",
    "leg_pred = leg.predict(Xtest)\n",
    "print('test score {:.2f}'.format(leg.score(Xtest, ytest)))"
   ]
  },
  {
   "cell_type": "markdown",
   "id": "ccf945e5-2107-4169-b0d4-3fe1ce2300ff",
   "metadata": {},
   "source": [
    "### Confusion matrices"
   ]
  },
  {
   "cell_type": "code",
   "execution_count": 311,
   "id": "a32e6416-aec9-4eb2-b7aa-631ef4e42f7a",
   "metadata": {},
   "outputs": [],
   "source": [
    "from sklearn.metrics import confusion_matrix"
   ]
  },
  {
   "cell_type": "code",
   "execution_count": 313,
   "id": "32406138-c455-414c-a98c-489d2161d463",
   "metadata": {},
   "outputs": [
    {
     "data": {
      "text/plain": [
       "array([[399,   4],\n",
       "       [  7,  40]])"
      ]
     },
     "execution_count": 313,
     "metadata": {},
     "output_type": "execute_result"
    }
   ],
   "source": [
    "confusion = confusion_matrix(ytest, leg_pred)\n",
    "confusion"
   ]
  },
  {
   "cell_type": "code",
   "execution_count": 314,
   "id": "ffdaca50-fc17-4a2a-bd0d-a780be1360c1",
   "metadata": {},
   "outputs": [
    {
     "data": {
      "image/png": "[encoded data removed]",
      "text/plain": [
       "<Figure size 576x576 with 1 Axes>"
      ]
     },
     "metadata": {
      "needs_background": "light"
     },
     "output_type": "display_data"
    }
   ],
   "source": [
    "mglearn.plots.plot_confusion_matrix_illustration()"
   ]
  },
  {
   "cell_type": "code",
   "execution_count": 317,
   "id": "12419e0d-8be7-4ba2-a322-f549abaa5e31",
   "metadata": {},
   "outputs": [
    {
     "name": "stdout",
     "output_type": "stream",
     "text": [
      "most frequent:\n",
      " [[403   0]\n",
      " [ 47   0]]\n"
     ]
    }
   ],
   "source": [
    "print(f'most frequent:\\n {confusion_matrix(ytest, pred_most)}')"
   ]
  },
  {
   "cell_type": "code",
   "execution_count": 318,
   "id": "6728974a-f128-408e-8f5a-2b02810902d0",
   "metadata": {},
   "outputs": [
    {
     "name": "stdout",
     "output_type": "stream",
     "text": [
      "dummy model: \n",
      " [[403   0]\n",
      " [ 47   0]]\n"
     ]
    }
   ],
   "source": [
    "print(f'dummy model: \\n {confusion_matrix(ytest, pred_dummy)}')"
   ]
  },
  {
   "cell_type": "code",
   "execution_count": 319,
   "id": "40282d83-f02b-465b-842a-160516a54de5",
   "metadata": {},
   "outputs": [
    {
     "name": "stdout",
     "output_type": "stream",
     "text": [
      "tree model: \n",
      " [[390  13]\n",
      " [ 24  23]]\n"
     ]
    }
   ],
   "source": [
    "print(f'tree model: \\n {confusion_matrix(ytest, pred_tree)}')"
   ]
  },
  {
   "cell_type": "code",
   "execution_count": 321,
   "id": "cbe6672e-5f1a-49ce-92ed-d33dc20bf870",
   "metadata": {},
   "outputs": [
    {
     "name": "stdout",
     "output_type": "stream",
     "text": [
      "Logistic Regression: \n",
      " [[399   4]\n",
      " [  7  40]]\n"
     ]
    }
   ],
   "source": [
    "print(f'Logistic Regression: \\n {confusion_matrix(ytest ,leg_pred)}')"
   ]
  },
  {
   "cell_type": "code",
   "execution_count": null,
   "id": "ed6ab597-04df-435c-ae91-cfd3d59c709d",
   "metadata": {},
   "outputs": [],
   "source": []
  },
  {
   "cell_type": "code",
   "execution_count": 329,
   "id": "549bd176-7e2f-4cac-b9f0-6786906042d9",
   "metadata": {},
   "outputs": [],
   "source": [
    "from sklearn.metrics import f1_score"
   ]
  },
  {
   "cell_type": "code",
   "execution_count": 337,
   "id": "ce110d7c-23f7-433f-838c-8ca6f4252e66",
   "metadata": {},
   "outputs": [
    {
     "name": "stdout",
     "output_type": "stream",
     "text": [
      "most frequent: 0.0\n",
      "dummy model: 0.0\n",
      "tree model: 0.55\n",
      "Logistic Regression: 0.88\n"
     ]
    }
   ],
   "source": [
    "print(f'most frequent: {f1_score(ytest, pred_most)}')\n",
    "print(f'dummy model: {f1_score(ytest, pred_dummy)}')\n",
    "print('tree model: {:.2f}'.format(f1_score(ytest, pred_tree)))\n",
    "print('Logistic Regression: {:.2f}'.format(f1_score(ytest, leg_pred)))"
   ]
  },
  {
   "cell_type": "code",
   "execution_count": 339,
   "id": "be65d684-53f0-4062-906a-0181daacbb69",
   "metadata": {},
   "outputs": [],
   "source": [
    "from sklearn.metrics import classification_report"
   ]
  },
  {
   "cell_type": "code",
   "execution_count": 350,
   "id": "8b25850f-0872-4d16-89ad-54170ede2593",
   "metadata": {},
   "outputs": [
    {
     "name": "stdout",
     "output_type": "stream",
     "text": [
      "              precision    recall  f1-score   support\n",
      "\n",
      "    not_nine       0.90      1.00      0.94       403\n",
      "        nine       0.00      0.00      0.00        47\n",
      "\n",
      "    accuracy                           0.90       450\n",
      "   macro avg       0.45      0.50      0.47       450\n",
      "weighted avg       0.80      0.90      0.85       450\n",
      "\n",
      "              precision    recall  f1-score   support\n",
      "\n",
      "    not_nine       0.90      1.00      0.94       403\n",
      "        nine       0.00      0.00      0.00        47\n",
      "\n",
      "    accuracy                           0.90       450\n",
      "   macro avg       0.45      0.50      0.47       450\n",
      "weighted avg       0.80      0.90      0.85       450\n",
      "\n",
      "              precision    recall  f1-score   support\n",
      "\n",
      "    not_nine       0.94      0.97      0.95       403\n",
      "        nine       0.64      0.49      0.55        47\n",
      "\n",
      "    accuracy                           0.92       450\n",
      "   macro avg       0.79      0.73      0.75       450\n",
      "weighted avg       0.91      0.92      0.91       450\n",
      "\n",
      "              precision    recall  f1-score   support\n",
      "\n",
      "    not_nine       0.98      0.99      0.99       403\n",
      "        nine       0.91      0.85      0.88        47\n",
      "\n",
      "    accuracy                           0.98       450\n",
      "   macro avg       0.95      0.92      0.93       450\n",
      "weighted avg       0.98      0.98      0.98       450\n",
      "\n"
     ]
    },
    {
     "name": "stderr",
     "output_type": "stream",
     "text": [
      "/Users/david/opt/anaconda3/lib/python3.9/site-packages/sklearn/metrics/_classification.py:1248: UndefinedMetricWarning: Precision and F-score are ill-defined and being set to 0.0 in labels with no predicted samples. Use `zero_division` parameter to control this behavior.\n",
      "  _warn_prf(average, modifier, msg_start, len(result))\n",
      "/Users/david/opt/anaconda3/lib/python3.9/site-packages/sklearn/metrics/_classification.py:1248: UndefinedMetricWarning: Precision and F-score are ill-defined and being set to 0.0 in labels with no predicted samples. Use `zero_division` parameter to control this behavior.\n",
      "  _warn_prf(average, modifier, msg_start, len(result))\n",
      "/Users/david/opt/anaconda3/lib/python3.9/site-packages/sklearn/metrics/_classification.py:1248: UndefinedMetricWarning: Precision and F-score are ill-defined and being set to 0.0 in labels with no predicted samples. Use `zero_division` parameter to control this behavior.\n",
      "  _warn_prf(average, modifier, msg_start, len(result))\n",
      "/Users/david/opt/anaconda3/lib/python3.9/site-packages/sklearn/metrics/_classification.py:1248: UndefinedMetricWarning: Precision and F-score are ill-defined and being set to 0.0 in labels with no predicted samples. Use `zero_division` parameter to control this behavior.\n",
      "  _warn_prf(average, modifier, msg_start, len(result))\n",
      "/Users/david/opt/anaconda3/lib/python3.9/site-packages/sklearn/metrics/_classification.py:1248: UndefinedMetricWarning: Precision and F-score are ill-defined and being set to 0.0 in labels with no predicted samples. Use `zero_division` parameter to control this behavior.\n",
      "  _warn_prf(average, modifier, msg_start, len(result))\n",
      "/Users/david/opt/anaconda3/lib/python3.9/site-packages/sklearn/metrics/_classification.py:1248: UndefinedMetricWarning: Precision and F-score are ill-defined and being set to 0.0 in labels with no predicted samples. Use `zero_division` parameter to control this behavior.\n",
      "  _warn_prf(average, modifier, msg_start, len(result))\n"
     ]
    }
   ],
   "source": [
    "print(classification_report(ytest, pred_most, target_names=[\"not_nine\", \"nine\"]))\n",
    "print(classification_report(ytest, pred_dummy, target_names=[\"not_nine\", \"nine\"]))\n",
    "print(classification_report(ytest, pred_tree, target_names=[\"not_nine\", \"nine\"]))\n",
    "print(classification_report(ytest, leg_pred, target_names=[\"not_nine\", \"nine\"]))"
   ]
  },
  {
   "cell_type": "markdown",
   "id": "e73efb45-3c0c-461c-b9db-52bd545e517b",
   "metadata": {},
   "source": [
    "## Taking uncertainty into account"
   ]
  },
  {
   "cell_type": "code",
   "execution_count": 351,
   "id": "baa2369e-e2d2-4155-ae39-0c2e63441e25",
   "metadata": {},
   "outputs": [],
   "source": [
    "from sklearn.datasets import make_blobs"
   ]
  },
  {
   "cell_type": "code",
   "execution_count": 371,
   "id": "faa48985-4474-4435-abff-a365ea4ee6c1",
   "metadata": {},
   "outputs": [],
   "source": [
    "X, y = make_blobs(n_samples=400, centers=2, cluster_std=[7.0, 2],random_state=22)"
   ]
  },
  {
   "cell_type": "code",
   "execution_count": 374,
   "id": "45fec99d-f007-4e88-9285-0cd49d5ee86c",
   "metadata": {},
   "outputs": [
    {
     "data": {
      "text/plain": [
       "<matplotlib.collections.PathCollection at 0x7f7a6773e4f0>"
      ]
     },
     "execution_count": 374,
     "metadata": {},
     "output_type": "execute_result"
    },
    {
     "data": {
      "image/png": "[encoded data removed]",
      "text/plain": [
       "<Figure size 432x288 with 1 Axes>"
      ]
     },
     "metadata": {
      "needs_background": "light"
     },
     "output_type": "display_data"
    }
   ],
   "source": [
    "plt.scatter(X[:,0], X[:,1], c=y)"
   ]
  },
  {
   "cell_type": "code",
   "execution_count": 375,
   "id": "38d0f79a-0675-493e-b871-4b4b233ac9d1",
   "metadata": {},
   "outputs": [],
   "source": [
    "Xtrain, Xtest, ytrain, ytest = train_test_split(X,y, random_state=0)"
   ]
  },
  {
   "cell_type": "code",
   "execution_count": 378,
   "id": "c519b8f8-9f68-444c-baf8-edc07dd90c28",
   "metadata": {},
   "outputs": [],
   "source": [
    "svc = SVC(gamma=.05).fit(Xtrain, ytrain)"
   ]
  },
  {
   "cell_type": "code",
   "execution_count": 377,
   "id": "ee3085a3-c68d-40ad-9cdf-bedd151c8933",
   "metadata": {},
   "outputs": [
    {
     "data": {
      "image/png": "[encoded data removed]",
      "text/plain": [
       "<Figure size 1080x576 with 6 Axes>"
      ]
     },
     "metadata": {},
     "output_type": "display_data"
    }
   ],
   "source": [
    "mglearn.plots.plot_decision_threshold()"
   ]
  },
  {
   "cell_type": "code",
   "execution_count": 379,
   "id": "373e9d78-1737-41ae-9653-38e8b314b977",
   "metadata": {},
   "outputs": [
    {
     "name": "stdout",
     "output_type": "stream",
     "text": [
      "              precision    recall  f1-score   support\n",
      "\n",
      "           0       0.98      0.88      0.92        56\n",
      "           1       0.86      0.98      0.91        44\n",
      "\n",
      "    accuracy                           0.92       100\n",
      "   macro avg       0.92      0.93      0.92       100\n",
      "weighted avg       0.93      0.92      0.92       100\n",
      "\n"
     ]
    }
   ],
   "source": [
    "print(classification_report(ytest, svc.predict(Xtest)))"
   ]
  },
  {
   "cell_type": "code",
   "execution_count": 382,
   "id": "39872228-51a7-4771-a42b-d323499232b7",
   "metadata": {},
   "outputs": [],
   "source": [
    "y_pred_lower_threshold = svc.decision_function(Xtest)> -0.8 \n",
    "#points with a decision_function value greater than 0 will be classified as class 1"
   ]
  },
  {
   "cell_type": "code",
   "execution_count": 381,
   "id": "9cf0c9e0-76b5-4d15-9b69-d765717e00e4",
   "metadata": {},
   "outputs": [
    {
     "name": "stdout",
     "output_type": "stream",
     "text": [
      "              precision    recall  f1-score   support\n",
      "\n",
      "           0       1.00      0.82      0.90        56\n",
      "           1       0.81      1.00      0.90        44\n",
      "\n",
      "    accuracy                           0.90       100\n",
      "   macro avg       0.91      0.91      0.90       100\n",
      "weighted avg       0.92      0.90      0.90       100\n",
      "\n"
     ]
    }
   ],
   "source": [
    "print(classification_report(ytest, y_pred_lower_threshold))"
   ]
  },
  {
   "cell_type": "markdown",
   "id": "495e584c-2582-4184-8229-a9c52210c9ad",
   "metadata": {},
   "source": [
    "### Precision-recall curves and ROC curves"
   ]
  },
  {
   "cell_type": "code",
   "execution_count": 383,
   "id": "977d3c93-7c6c-437d-951b-fbeb60bc2eb2",
   "metadata": {},
   "outputs": [],
   "source": [
    "from sklearn.metrics import precision_recall_curve"
   ]
  },
  {
   "cell_type": "code",
   "execution_count": 384,
   "id": "6b043fb8-e4e8-4921-a3f7-ef0832035ebc",
   "metadata": {},
   "outputs": [],
   "source": [
    "precision, recall, threshold = precision_recall_curve(ytest, svc.decision_function(Xtest))"
   ]
  },
  {
   "cell_type": "code",
   "execution_count": null,
   "id": "4d699f52-63e1-414b-aa6c-c2b08b976a2f",
   "metadata": {},
   "outputs": [],
   "source": []
  },
  {
   "cell_type": "code",
   "execution_count": 426,
   "id": "493a3d24-a416-4389-b1b7-fbfe6c9f2e3a",
   "metadata": {},
   "outputs": [
    {
     "data": {
      "image/png": "[encoded data removed]",
      "text/plain": [
       "<Figure size 432x288 with 1 Axes>"
      ]
     },
     "metadata": {
      "needs_background": "light"
     },
     "output_type": "display_data"
    }
   ],
   "source": [
    "X,y = make_blobs(n_samples=4500, centers=2, cluster_std=[7.0, 2], random_state=22)\n",
    "Xtrain, Xtest, ytrain, ytest = train_test_split(X, y, random_state=0)\n",
    "svc = SVC(gamma=0.05).fit(Xtrain, ytrain)\n",
    "precision, recall, thresholds = precision_recall_curve(ytest, svc.decision_function(Xtest))\n",
    "close_zero = np.argmin(np.abs(thresholds))\n",
    "plt.plot(precision[close_zero], recall[close_zero], 'ok', fillstyle='none', markersize=10, mew=2, label='threhold zero')\n",
    "plt.plot(precision, recall, label='precision_recall_curve')\n",
    "plt.xlabel('precision')\n",
    "plt.ylabel('recall')\n",
    "plt.legend(loc='best');"
   ]
  },
  {
   "cell_type": "code",
   "execution_count": 429,
   "id": "bea46a95-2279-493e-85cf-33a853162e93",
   "metadata": {},
   "outputs": [],
   "source": [
    "from sklearn.ensemble import RandomForestClassifier"
   ]
  },
  {
   "cell_type": "code",
   "execution_count": 436,
   "id": "059bc414-d123-4e6e-8087-7e56197413f3",
   "metadata": {},
   "outputs": [],
   "source": [
    "rf = RandomForestClassifier(n_estimators=100, max_features=2, random_state=0).fit(Xtrain, ytrain)"
   ]
  },
  {
   "cell_type": "code",
   "execution_count": 457,
   "id": "deb49bfc-a8ae-4871-adc0-467e60ed993c",
   "metadata": {},
   "outputs": [
    {
     "data": {
      "image/png": "[encoded data removed]",
      "text/plain": [
       "<Figure size 432x288 with 1 Axes>"
      ]
     },
     "metadata": {
      "needs_background": "light"
     },
     "output_type": "display_data"
    }
   ],
   "source": [
    "close_zero = np.argmin(np.abs(thresholds))\n",
    "plt.plot(precision[close_zero], recall[close_zero], 'ok', fillstyle='none', markersize=10, mew=2, label='threhold zero')\n",
    "plt.plot(precision, recall,'-', label='precision_recall_curve')\n",
    "\n",
    "precision_rf, recall_rf, threshold_rf = precision_recall_curve(ytest, rf.predict_proba(Xtest)[:,1])\n",
    "close_zero_rf = np.argmin(np.abs(threshold_rf-0.5))\n",
    "plt.plot(precision_rf[close_zero_rf], recall_rf[close_zero_rf], '>r', fillstyle='none', markersize=10, mew=2, label='threhold zero rf')\n",
    "plt.plot(precision_rf, recall_rf, '--',label='precision_recall_curve_rf')\n",
    "plt.legend(loc='best');"
   ]
  },
  {
   "cell_type": "code",
   "execution_count": 461,
   "id": "333b700c-02dc-4f5c-b881-e31b81d5c5f1",
   "metadata": {},
   "outputs": [
    {
     "name": "stdout",
     "output_type": "stream",
     "text": [
      "f1 score of Random forest: 0.91\n",
      "f1 score of support vector machine: 0.92\n"
     ]
    }
   ],
   "source": [
    "print('f1 score of Random forest: {:.2f}'.format(f1_score(ytest, rf.predict(Xtest))))\n",
    "print('f1 score of support vector machine: {:.2f}'.format(f1_score(ytest, svc.predict(Xtest))))"
   ]
  },
  {
   "cell_type": "code",
   "execution_count": 462,
   "id": "757ed470-6bfa-40db-8a92-774d2220438c",
   "metadata": {},
   "outputs": [],
   "source": [
    "from sklearn.metrics import average_precision_score"
   ]
  },
  {
   "cell_type": "code",
   "execution_count": 463,
   "id": "d5cbe000-dc5d-451b-af34-0de49a669c30",
   "metadata": {},
   "outputs": [],
   "source": [
    "ap_rf = average_precision_score(ytest, rf.predict_proba(Xtest)[:,1])\n",
    "ap_svm = average_precision_score(ytest, svc.decision_function(Xtest))"
   ]
  },
  {
   "cell_type": "code",
   "execution_count": 464,
   "id": "04773081-c1b3-4d4c-bdb2-4a56e0e0b954",
   "metadata": {},
   "outputs": [
    {
     "name": "stdout",
     "output_type": "stream",
     "text": [
      "avg precision score for rf: 0.92\n",
      "avg precision score for svc: 0.90\n"
     ]
    }
   ],
   "source": [
    "print('avg precision score for rf: {:.2f}'.format(ap_rf))\n",
    "print('avg precision score for svc: {:.2f}'.format(ap_svm))"
   ]
  },
  {
   "cell_type": "markdown",
   "id": "da08d3c3-ff01-47c6-ba74-41525c4fd717",
   "metadata": {},
   "source": [
    "### Receiver operating characteristics (ROC) and AUC"
   ]
  },
  {
   "cell_type": "code",
   "execution_count": 466,
   "id": "7c7b6fcf-b8a4-4ed0-8fcc-10304c5eeb9d",
   "metadata": {},
   "outputs": [],
   "source": [
    "from sklearn.metrics import roc_auc_score\n",
    "from sklearn.metrics import roc_curve"
   ]
  },
  {
   "cell_type": "code",
   "execution_count": 467,
   "id": "e2b8e94e-d44b-4d8b-8fed-2dc9f31408e7",
   "metadata": {},
   "outputs": [],
   "source": [
    "fpr, tpr, threshold = roc_curve(ytest, svc.decision_function(Xtest))"
   ]
  },
  {
   "cell_type": "code",
   "execution_count": 476,
   "id": "aea73e87-77ff-4b24-8ad6-b1d295586aa8",
   "metadata": {},
   "outputs": [
    {
     "data": {
      "image/png": "[encoded data removed]",
      "text/plain": [
       "<Figure size 432x288 with 1 Axes>"
      ]
     },
     "metadata": {
      "needs_background": "light"
     },
     "output_type": "display_data"
    }
   ],
   "source": [
    "plt.plot(fpr, tpr, label='ROC curve')\n",
    "plt.xlabel('false positive rate')\n",
    "plt.ylabel('true positive rate (recall)')\n",
    "close_zero =np.argmin(np.abs(threshold))\n",
    "plt.plot(fpr[close_zero], tpr[close_zero], 'ok', fillstyle='none', mew=2, markersize=10, label='threshold zero')\n",
    "plt.legend();"
   ]
  },
  {
   "cell_type": "code",
   "execution_count": 481,
   "id": "ed7f5d6c-3027-4b46-b93a-3e1f53b9275b",
   "metadata": {},
   "outputs": [
    {
     "data": {
      "text/plain": [
       "[<matplotlib.lines.Line2D at 0x7f7a4ca55b80>]"
      ]
     },
     "execution_count": 481,
     "metadata": {},
     "output_type": "execute_result"
    },
    {
     "data": {
      "image/png": "[encoded data removed]",
      "text/plain": [
       "<Figure size 432x288 with 1 Axes>"
      ]
     },
     "metadata": {
      "needs_background": "light"
     },
     "output_type": "display_data"
    }
   ],
   "source": [
    "plt.plot(fpr, tpr, label='ROC curve')\n",
    "plt.xlabel('false positive rate')\n",
    "plt.ylabel('true positive rate (recall)')\n",
    "close_zero =np.argmin(np.abs(threshold))\n",
    "plt.plot(fpr[close_zero], tpr[close_zero], 'ok', fillstyle='none', mew=2, markersize=10, label='threshold zero')\n",
    "\n",
    "fpr_rf, tpr_rf, threshold_rf = roc_curve(ytest, rf.predict_proba(Xtest)[:,1])\n",
    "close_to = np.argmin(np.abs(threshold_rf-0.5))\n",
    "plt.plot(fpr_rf[close_to], tpr_rf[close_to], '>r', fillstyle='none', mew=2, markersize=10, label='threshold zero')\n",
    "plt.plot(fpr_rf, tpr_rf, '--')"
   ]
  },
  {
   "cell_type": "code",
   "execution_count": 485,
   "id": "2640e651-d55f-41a6-9ad7-cf367699eb88",
   "metadata": {},
   "outputs": [
    {
     "name": "stdout",
     "output_type": "stream",
     "text": [
      "rf_roc score: 0.949\n",
      "svc_roc score: 0.946\n"
     ]
    }
   ],
   "source": [
    "roc_score_rf = roc_auc_score(ytest, rf.predict_proba(Xtest)[:,1])\n",
    "roc_score_svc = roc_auc_score(ytest, svc.decision_function(Xtest))\n",
    "print('rf_roc score: {:.3f}'.format(roc_score_rf))\n",
    "print('svc_roc score: {:.3f}'.format(roc_score_svc))"
   ]
  },
  {
   "cell_type": "code",
   "execution_count": null,
   "id": "58fc7aeb-b650-4cbc-a603-7233fe292d48",
   "metadata": {},
   "outputs": [],
   "source": []
  },
  {
   "cell_type": "code",
   "execution_count": 486,
   "id": "6d2dd7bb-82ef-449a-a9ea-221325607224",
   "metadata": {},
   "outputs": [],
   "source": [
    "y = digits.target==9"
   ]
  },
  {
   "cell_type": "code",
   "execution_count": 491,
   "id": "7b61114d-d787-4289-b1c8-50d51558c5c9",
   "metadata": {},
   "outputs": [],
   "source": [
    "Xtraini, Xtesti, ytraini, ytesti = train_test_split(digits.data, y, random_state=0)"
   ]
  },
  {
   "cell_type": "code",
   "execution_count": 497,
   "id": "b19de670-1601-4bec-af0d-bd1851a3ef8e",
   "metadata": {},
   "outputs": [
    {
     "name": "stdout",
     "output_type": "stream",
     "text": [
      "gamma = 1.00 accuracy = 0.90 auc = 0.50\n",
      "gamma = 0.05 accuracy = 0.90 auc = 1.00\n",
      "gamma = 0.01 accuracy = 0.90 auc = 1.00\n"
     ]
    },
    {
     "data": {
      "text/plain": [
       "<matplotlib.legend.Legend at 0x7f7a4cb2e5e0>"
      ]
     },
     "execution_count": 497,
     "metadata": {},
     "output_type": "execute_result"
    },
    {
     "data": {
      "image/png": "[encoded data removed]",
      "text/plain": [
       "<Figure size 432x288 with 1 Axes>"
      ]
     },
     "metadata": {
      "needs_background": "light"
     },
     "output_type": "display_data"
    }
   ],
   "source": [
    "plt.figure()\n",
    "for gamma in [1, 0.05, 0.01]:\n",
    "    svci = SVC(gamma=gamma).fit(Xtraini, ytraini)\n",
    "    accuracy = svci.score(Xtesti, ytesti)\n",
    "    fpr, tpr, _ = roc_curve(ytesti, svci.decision_function(Xtesti))\n",
    "    roc_score = roc_auc_score(ytesti, svci.decision_function(Xtesti))\n",
    "    print('gamma = {:.2f} accuracy = {:.2f} auc = {:.2f}'.format(gamma, accuracy, roc_score))\n",
    "    plt.plot(fpr, tpr, '--', label='gamma = {:.2f}'.format(gamma))\n",
    "plt.xlabel(\"FPR\") \n",
    "plt.ylabel(\"TPR\") \n",
    "plt.xlim(-0.01, 1) \n",
    "plt.ylim(0, 1.02)\n",
    "plt.legend(loc=\"best\")"
   ]
  },
  {
   "cell_type": "markdown",
   "id": "9c0e1a47-da9f-41ff-812b-9b4b949310a2",
   "metadata": {},
   "source": [
    "# Metrics for Multiclass Classification"
   ]
  },
  {
   "cell_type": "code",
   "execution_count": 501,
   "id": "92feb3be-c519-4cfa-93d7-6f735ec061cf",
   "metadata": {},
   "outputs": [],
   "source": [
    "from sklearn.metrics import accuracy_score"
   ]
  },
  {
   "cell_type": "code",
   "execution_count": 503,
   "id": "866046c6-db7d-48ae-b9f4-7bb669b89103",
   "metadata": {},
   "outputs": [
    {
     "name": "stdout",
     "output_type": "stream",
     "text": [
      "accuracy socre: 0.951\n"
     ]
    },
    {
     "name": "stderr",
     "output_type": "stream",
     "text": [
      "/Users/david/opt/anaconda3/lib/python3.9/site-packages/sklearn/linear_model/_logistic.py:763: ConvergenceWarning: lbfgs failed to converge (status=1):\n",
      "STOP: TOTAL NO. of ITERATIONS REACHED LIMIT.\n",
      "\n",
      "Increase the number of iterations (max_iter) or scale the data as shown in:\n",
      "    https://scikit-learn.org/stable/modules/preprocessing.html\n",
      "Please also refer to the documentation for alternative solver options:\n",
      "    https://scikit-learn.org/stable/modules/linear_model.html#logistic-regression\n",
      "  n_iter_i = _check_optimize_result(\n"
     ]
    },
    {
     "data": {
      "text/plain": [
       "array([[37,  0,  0,  0,  0,  0,  0,  0,  0,  0],\n",
       "       [ 0, 40,  0,  0,  0,  0,  0,  0,  2,  1],\n",
       "       [ 0,  1, 40,  3,  0,  0,  0,  0,  0,  0],\n",
       "       [ 0,  0,  0, 43,  0,  0,  0,  0,  1,  1],\n",
       "       [ 0,  0,  0,  0, 37,  0,  0,  1,  0,  0],\n",
       "       [ 0,  0,  0,  0,  0, 46,  0,  0,  0,  2],\n",
       "       [ 0,  1,  0,  0,  0,  0, 51,  0,  0,  0],\n",
       "       [ 0,  0,  0,  1,  1,  0,  0, 46,  0,  0],\n",
       "       [ 0,  3,  1,  0,  0,  0,  0,  0, 43,  1],\n",
       "       [ 0,  0,  0,  0,  0,  1,  0,  0,  1, 45]])"
      ]
     },
     "execution_count": 503,
     "metadata": {},
     "output_type": "execute_result"
    }
   ],
   "source": [
    "Xtrain, Xtest, ytrain, ytest = train_test_split(digits.data, digits.target, random_state=0)\n",
    "lr = LogisticRegression().fit(Xtrain, ytrain)\n",
    "pred = lr.predict(Xtest)\n",
    "accuracy =accuracy_score(ytest, pred)\n",
    "print('accuracy socre: {:.3f}'.format(accuracy))\n",
    "confusion_matrix(ytest, pred)"
   ]
  },
  {
   "cell_type": "code",
   "execution_count": 504,
   "id": "64bdba15-eeae-4a60-bfd1-33e6cb0e3b56",
   "metadata": {},
   "outputs": [],
   "source": [
    "import seaborn as sns"
   ]
  },
  {
   "cell_type": "code",
   "execution_count": 514,
   "id": "2a2ee9e3-fac7-4058-be5b-c898a1bbbdc7",
   "metadata": {},
   "outputs": [
    {
     "data": {
      "image/png": "[encoded data removed]",
      "text/plain": [
       "<Figure size 432x288 with 2 Axes>"
      ]
     },
     "metadata": {
      "needs_background": "light"
     },
     "output_type": "display_data"
    }
   ],
   "source": [
    "sns.heatmap(confusion_matrix(ytest, pred), annot=True, square=True, cmap='viridis', fmt='d',xticklabels=digits.target_names, yticklabels=digits.target_names )\n",
    "plt.xlabel('predicted label')\n",
    "plt.ylabel('true label');"
   ]
  },
  {
   "cell_type": "code",
   "execution_count": 515,
   "id": "fc93206d-018f-444e-9d87-6f67040e32f0",
   "metadata": {},
   "outputs": [
    {
     "name": "stdout",
     "output_type": "stream",
     "text": [
      "              precision    recall  f1-score   support\n",
      "\n",
      "           0       1.00      1.00      1.00        37\n",
      "           1       0.89      0.93      0.91        43\n",
      "           2       0.98      0.91      0.94        44\n",
      "           3       0.91      0.96      0.93        45\n",
      "           4       0.97      0.97      0.97        38\n",
      "           5       0.98      0.96      0.97        48\n",
      "           6       1.00      0.98      0.99        52\n",
      "           7       0.98      0.96      0.97        48\n",
      "           8       0.91      0.90      0.91        48\n",
      "           9       0.90      0.96      0.93        47\n",
      "\n",
      "    accuracy                           0.95       450\n",
      "   macro avg       0.95      0.95      0.95       450\n",
      "weighted avg       0.95      0.95      0.95       450\n",
      "\n"
     ]
    }
   ],
   "source": [
    "print(classification_report(ytest, pred))"
   ]
  },
  {
   "cell_type": "code",
   "execution_count": 520,
   "id": "c02cac7d-5174-4cb4-81ce-fc7f968430b3",
   "metadata": {},
   "outputs": [
    {
     "name": "stdout",
     "output_type": "stream",
     "text": [
      "micro f1 score: 0.951\n",
      "macro f1 score: 0.952\n",
      "weighted f1 score: 0.951\n"
     ]
    }
   ],
   "source": [
    "print('micro f1 score: {:.3f}'.format(f1_score(ytest, pred, average='micro')))\n",
    "print('macro f1 score: {:.3f}'.format(f1_score(ytest, pred, average='macro')))\n",
    "print('weighted f1 score: {:.3f}'.format(f1_score(ytest, pred, average='weighted')))"
   ]
  },
  {
   "cell_type": "markdown",
   "id": "e603b3aa-394c-40d3-ad23-e501bf3ac239",
   "metadata": {},
   "source": [
    "# Using Evaluation Metrics in Model Selection"
   ]
  },
  {
   "cell_type": "code",
   "execution_count": 526,
   "id": "871d61a7-e752-4c8d-bdce-5fde041d5f6d",
   "metadata": {},
   "outputs": [
    {
     "name": "stdout",
     "output_type": "stream",
     "text": [
      "default score: [0.975      0.99166667 1.         0.99442897 0.98050139]\n",
      "default score: [0.975      0.99166667 1.         0.99442897 0.98050139]\n",
      "default score: [0.99717078 0.99854252 1.         0.999828   0.98400413]\n"
     ]
    }
   ],
   "source": [
    "print('default score: {}'.format(cross_val_score(SVC(), digits.data, digits.target==9)))\n",
    "print('default score: {}'.format(cross_val_score(SVC(), digits.data, digits.target==9, scoring = 'accuracy')))\n",
    "print('default score: {}'.format(cross_val_score(SVC(), digits.data, digits.target==9, scoring = 'roc_auc')))"
   ]
  },
  {
   "cell_type": "code",
   "execution_count": 533,
   "id": "de81794d-12ab-4e56-9cc1-70ec5a746110",
   "metadata": {},
   "outputs": [
    {
     "name": "stdout",
     "output_type": "stream",
     "text": [
      "Grid-Search with accuracy\n",
      "best parameters: {'gamma': 0.0001}\n",
      "best score: 0.976\n",
      "roc_auc score: 0.992\n",
      "accuracy score: 0.973\n"
     ]
    }
   ],
   "source": [
    "Xtrain, Xtest, ytrain, ytest = train_test_split(digits.data, digits.target==9, random_state=0)\n",
    "param_grid = {'gamma': [0.0001, 0.01, 0.1, 1, 10]}\n",
    "grid = GridSearchCV(SVC(), param_grid, cv=5)\n",
    "grid.fit(Xtrain, ytrain)\n",
    "print('Grid-Search with accuracy')\n",
    "print('best parameters: {}'.format(grid.best_params_))\n",
    "print('best score: {:.3f}'.format(grid.best_score_))\n",
    "print('roc_auc score: {:.3f}'.format(roc_auc_score(ytest, grid.decision_function(Xtest))))\n",
    "print('accuracy score: {:.3f}'.format(grid.score(Xtest,ytest)))"
   ]
  },
  {
   "cell_type": "code",
   "execution_count": 535,
   "id": "fb1faf50-d961-433f-8036-798563867f4d",
   "metadata": {},
   "outputs": [
    {
     "name": "stdout",
     "output_type": "stream",
     "text": [
      "Grid-Search with accuracy\n",
      "best parameters: {'gamma': 0.01}\n",
      "best score: 0.998\n",
      "roc_auc score: 1.000\n",
      "accuracy score: 1.000\n"
     ]
    }
   ],
   "source": [
    "Xtrain, Xtest, ytrain, ytest = train_test_split(digits.data, digits.target==9, random_state=0)\n",
    "param_grid = {'gamma': [0.0001, 0.01, 0.1, 1, 10]}\n",
    "grid = GridSearchCV(SVC(), param_grid, cv=5, scoring='roc_auc')\n",
    "grid.fit(Xtrain, ytrain)\n",
    "print('Grid-Search with accuracy')\n",
    "print('best parameters: {}'.format(grid.best_params_))\n",
    "print('best score: {:.3f}'.format(grid.best_score_))\n",
    "print('roc_auc score: {:.3f}'.format(roc_auc_score(ytest, grid.decision_function(Xtest))))\n",
    "print('accuracy score: {:.3f}'.format(grid.score(Xtest,ytest)))"
   ]
  },
  {
   "cell_type": "code",
   "execution_count": 536,
   "id": "cc257ba5-61c0-4c6a-9014-f2f865af1e97",
   "metadata": {},
   "outputs": [],
   "source": [
    "from sklearn.metrics import SCORERS"
   ]
  },
  {
   "cell_type": "code",
   "execution_count": 540,
   "id": "04b04a4f-dac7-47bb-aba4-a45910d20914",
   "metadata": {},
   "outputs": [
    {
     "name": "stdout",
     "output_type": "stream",
     "text": [
      "available scorers:\n",
      " ['accuracy', 'adjusted_mutual_info_score', 'adjusted_rand_score', 'average_precision', 'balanced_accuracy', 'completeness_score', 'explained_variance', 'f1', 'f1_macro', 'f1_micro', 'f1_samples', 'f1_weighted', 'fowlkes_mallows_score', 'homogeneity_score', 'jaccard', 'jaccard_macro', 'jaccard_micro', 'jaccard_samples', 'jaccard_weighted', 'max_error', 'mutual_info_score', 'neg_brier_score', 'neg_log_loss', 'neg_mean_absolute_error', 'neg_mean_absolute_percentage_error', 'neg_mean_gamma_deviance', 'neg_mean_poisson_deviance', 'neg_mean_squared_error', 'neg_mean_squared_log_error', 'neg_median_absolute_error', 'neg_root_mean_squared_error', 'normalized_mutual_info_score', 'precision', 'precision_macro', 'precision_micro', 'precision_samples', 'precision_weighted', 'r2', 'rand_score', 'recall', 'recall_macro', 'recall_micro', 'recall_samples', 'recall_weighted', 'roc_auc', 'roc_auc_ovo', 'roc_auc_ovo_weighted', 'roc_auc_ovr', 'roc_auc_ovr_weighted', 'top_k_accuracy', 'v_measure_score']\n"
     ]
    }
   ],
   "source": [
    "print(f'available scorers:\\n {sorted(SCORERS.keys())}')"
   ]
  },
  {
   "cell_type": "code",
   "execution_count": null,
   "id": "7b26a9a8-0f4b-412f-97f4-979cad7e18ed",
   "metadata": {},
   "outputs": [],
   "source": []
  }
 ],
 "metadata": {
  "kernelspec": {
   "display_name": "Python 3 (ipykernel)",
   "language": "python",
   "name": "python3"
  },
  "language_info": {
   "codemirror_mode": {
    "name": "ipython",
    "version": 3
   },
   "file_extension": ".py",
   "mimetype": "text/x-python",
   "name": "python",
   "nbconvert_exporter": "python",
   "pygments_lexer": "ipython3",
   "version": "3.9.7"
  }
 },
 "nbformat": 4,
 "nbformat_minor": 5
}
